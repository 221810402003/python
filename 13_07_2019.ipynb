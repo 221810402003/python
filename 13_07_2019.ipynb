{
  "nbformat": 4,
  "nbformat_minor": 0,
  "metadata": {
    "colab": {
      "name": "13-07-2019",
      "version": "0.3.2",
      "provenance": [],
      "include_colab_link": true
    },
    "kernelspec": {
      "name": "python3",
      "display_name": "Python 3"
    }
  },
  "cells": [
    {
      "cell_type": "markdown",
      "metadata": {
        "id": "view-in-github",
        "colab_type": "text"
      },
      "source": [
        "<a href=\"https://colab.research.google.com/github/221810402003/python/blob/master/13_07_2019.ipynb\" target=\"_parent\"><img src=\"https://colab.research.google.com/assets/colab-badge.svg\" alt=\"Open In Colab\"/></a>"
      ]
    },
    {
      "cell_type": "code",
      "metadata": {
        "id": "O4YhFQ4FaRCl",
        "colab_type": "code",
        "colab": {
          "base_uri": "https://localhost:8080/",
          "height": 34
        },
        "outputId": "d231a098-480d-40cf-ad6e-b321d5d0579e"
      },
      "source": [
        "for i in [0,1,2,3,4,5]:\n",
        "  print(i**2,end=\" \")"
      ],
      "execution_count": 1,
      "outputs": [
        {
          "output_type": "stream",
          "text": [
            "0 1 4 9 16 25 "
          ],
          "name": "stdout"
        }
      ]
    },
    {
      "cell_type": "code",
      "metadata": {
        "id": "-VppPCGGcHYA",
        "colab_type": "code",
        "colab": {
          "base_uri": "https://localhost:8080/",
          "height": 34
        },
        "outputId": "f58c05f0-4792-4b45-f45c-55bd8ae28ee9"
      },
      "source": [
        "for i in range(6):\n",
        "  print(i**2,end=\" \")"
      ],
      "execution_count": 2,
      "outputs": [
        {
          "output_type": "stream",
          "text": [
            "0 1 4 9 16 25 "
          ],
          "name": "stdout"
        }
      ]
    },
    {
      "cell_type": "code",
      "metadata": {
        "id": "k-re4yD2dEAO",
        "colab_type": "code",
        "colab": {
          "base_uri": "https://localhost:8080/",
          "height": 84
        },
        "outputId": "74ec855a-4754-4900-9935-d7cc6f875f4e"
      },
      "source": [
        "colors=['red','yellow','green','purple']\n",
        "for i in range(len(colors)):\n",
        "  print(colors[i])"
      ],
      "execution_count": 4,
      "outputs": [
        {
          "output_type": "stream",
          "text": [
            "red\n",
            "yellow\n",
            "green\n",
            "purple\n"
          ],
          "name": "stdout"
        }
      ]
    },
    {
      "cell_type": "code",
      "metadata": {
        "id": "z-Eceg6rfPE2",
        "colab_type": "code",
        "colab": {
          "base_uri": "https://localhost:8080/",
          "height": 84
        },
        "outputId": "2ec3f50a-3a1d-4f38-ac43-f5a4f08b9001"
      },
      "source": [
        "colors=['red','yellow','green','purple']\n",
        "for i in range(len(colors)-1,-1,-1):\n",
        "  print(colors[i])"
      ],
      "execution_count": 5,
      "outputs": [
        {
          "output_type": "stream",
          "text": [
            "purple\n",
            "green\n",
            "yellow\n",
            "red\n"
          ],
          "name": "stdout"
        }
      ]
    },
    {
      "cell_type": "code",
      "metadata": {
        "id": "SRirH6WvfmVg",
        "colab_type": "code",
        "colab": {
          "base_uri": "https://localhost:8080/",
          "height": 84
        },
        "outputId": "0ee18a1d-8a5e-41dd-9745-cf88e1d3d7b8"
      },
      "source": [
        "colors=['red','yellow','green','purple']\n",
        "for colors in reversed(colors):\n",
        "  print(colors)"
      ],
      "execution_count": 8,
      "outputs": [
        {
          "output_type": "stream",
          "text": [
            "purple\n",
            "green\n",
            "yellow\n",
            "red\n"
          ],
          "name": "stdout"
        }
      ]
    },
    {
      "cell_type": "code",
      "metadata": {
        "id": "FtjEwICggFdI",
        "colab_type": "code",
        "colab": {
          "base_uri": "https://localhost:8080/",
          "height": 84
        },
        "outputId": "f388b382-d9c6-4b2a-e82a-72dc0b15ecf5"
      },
      "source": [
        "colors=['red','yellow','green','purple']\n",
        "for colors in sorted(colors):\n",
        "  print(colors)"
      ],
      "execution_count": 9,
      "outputs": [
        {
          "output_type": "stream",
          "text": [
            "green\n",
            "purple\n",
            "red\n",
            "yellow\n"
          ],
          "name": "stdout"
        }
      ]
    },
    {
      "cell_type": "code",
      "metadata": {
        "id": "MerlEi64iAMA",
        "colab_type": "code",
        "colab": {
          "base_uri": "https://localhost:8080/",
          "height": 195
        },
        "outputId": "7021d86c-dde5-4f68-f6d0-b4a23efa7128"
      },
      "source": [
        "colors=['red','yellow','green','purple']\n",
        "for colors in sorted(colors,reversed=True):\n",
        "  print(colors)"
      ],
      "execution_count": 10,
      "outputs": [
        {
          "output_type": "error",
          "ename": "TypeError",
          "evalue": "ignored",
          "traceback": [
            "\u001b[0;31m---------------------------------------------------------------------------\u001b[0m",
            "\u001b[0;31mTypeError\u001b[0m                                 Traceback (most recent call last)",
            "\u001b[0;32m<ipython-input-10-258fd7456320>\u001b[0m in \u001b[0;36m<module>\u001b[0;34m()\u001b[0m\n\u001b[1;32m      1\u001b[0m \u001b[0mcolors\u001b[0m\u001b[0;34m=\u001b[0m\u001b[0;34m[\u001b[0m\u001b[0;34m'red'\u001b[0m\u001b[0;34m,\u001b[0m\u001b[0;34m'yellow'\u001b[0m\u001b[0;34m,\u001b[0m\u001b[0;34m'green'\u001b[0m\u001b[0;34m,\u001b[0m\u001b[0;34m'purple'\u001b[0m\u001b[0;34m]\u001b[0m\u001b[0;34m\u001b[0m\u001b[0;34m\u001b[0m\u001b[0m\n\u001b[0;32m----> 2\u001b[0;31m \u001b[0;32mfor\u001b[0m \u001b[0mcolors\u001b[0m \u001b[0;32min\u001b[0m \u001b[0msorted\u001b[0m\u001b[0;34m(\u001b[0m\u001b[0mcolors\u001b[0m\u001b[0;34m,\u001b[0m\u001b[0mreversed\u001b[0m\u001b[0;34m=\u001b[0m\u001b[0;32mTrue\u001b[0m\u001b[0;34m)\u001b[0m\u001b[0;34m:\u001b[0m\u001b[0;34m\u001b[0m\u001b[0;34m\u001b[0m\u001b[0m\n\u001b[0m\u001b[1;32m      3\u001b[0m   \u001b[0mprint\u001b[0m\u001b[0;34m(\u001b[0m\u001b[0mcolors\u001b[0m\u001b[0;34m)\u001b[0m\u001b[0;34m\u001b[0m\u001b[0;34m\u001b[0m\u001b[0m\n",
            "\u001b[0;31mTypeError\u001b[0m: 'reversed' is an invalid keyword argument for this function"
          ]
        }
      ]
    },
    {
      "cell_type": "code",
      "metadata": {
        "id": "EFLNkhC3iZqN",
        "colab_type": "code",
        "colab": {
          "base_uri": "https://localhost:8080/",
          "height": 84
        },
        "outputId": "45826537-3107-4e46-c93b-5573704af47f"
      },
      "source": [
        "colors=['red','yellow','green','purple']\n",
        "for color in sorted(colors,reverse=True):\n",
        "  print(color)"
      ],
      "execution_count": 13,
      "outputs": [
        {
          "output_type": "stream",
          "text": [
            "yellow\n",
            "red\n",
            "purple\n",
            "green\n"
          ],
          "name": "stdout"
        }
      ]
    },
    {
      "cell_type": "code",
      "metadata": {
        "id": "4oGj15FCiggw",
        "colab_type": "code",
        "colab": {}
      },
      "source": [
        "import pandas as pd"
      ],
      "execution_count": 0,
      "outputs": []
    },
    {
      "cell_type": "code",
      "metadata": {
        "id": "IUzAM7EmkGCY",
        "colab_type": "code",
        "colab": {}
      },
      "source": [
        "dt={'id':[11,12,13,14,15],\n",
        "   'first_name':['A','B','C','D','E'],\n",
        "   'company':['aa','bb','cc','dd','ee'],\n",
        "   'address':['Hyd','Hyd','Hyd','Hyd','Hyd']}\n",
        "mydt=pd.DataFrame(dt)"
      ],
      "execution_count": 0,
      "outputs": []
    },
    {
      "cell_type": "code",
      "metadata": {
        "id": "U3EikgvVlm_j",
        "colab_type": "code",
        "colab": {
          "base_uri": "https://localhost:8080/",
          "height": 118
        },
        "outputId": "ba2c6bf9-1906-4311-a7a0-9e6d90d3dedf"
      },
      "source": [
        "print(mydt)"
      ],
      "execution_count": 16,
      "outputs": [
        {
          "output_type": "stream",
          "text": [
            "   id first_name company address\n",
            "0  11          A      aa     Hyd\n",
            "1  12          B      bb     Hyd\n",
            "2  13          C      cc     Hyd\n",
            "3  14          D      dd     Hyd\n",
            "4  15          E      ee     Hyd\n"
          ],
          "name": "stdout"
        }
      ]
    },
    {
      "cell_type": "code",
      "metadata": {
        "id": "c5AvlUHElqTR",
        "colab_type": "code",
        "colab": {
          "base_uri": "https://localhost:8080/",
          "height": 118
        },
        "outputId": "f87f0737-307d-4ea4-f9ec-f85d91dc5e35"
      },
      "source": [
        "print(mydt)"
      ],
      "execution_count": 20,
      "outputs": [
        {
          "output_type": "stream",
          "text": [
            "   id first_name company address\n",
            "0  11          A      aa     Hyd\n",
            "1  12          B      bb     Hyd\n",
            "2  13          C      cc     Hyd\n",
            "3  14          D      dd     Hyd\n",
            "4  15          E      ee     Hyd\n"
          ],
          "name": "stdout"
        }
      ]
    },
    {
      "cell_type": "code",
      "metadata": {
        "id": "3o7yqT2txxw1",
        "colab_type": "code",
        "colab": {}
      },
      "source": [
        "dt={'id':[11,12,13,14,15],\n",
        "   'first_name':['A','B','C','D','E']}\n",
        "mydt=pd.DataFrame(dt)"
      ],
      "execution_count": 0,
      "outputs": []
    },
    {
      "cell_type": "code",
      "metadata": {
        "id": "E1lGq9LCx5mf",
        "colab_type": "code",
        "colab": {
          "base_uri": "https://localhost:8080/",
          "height": 50
        },
        "outputId": "89738caa-5c4a-43d6-a7c2-60beeb064061"
      },
      "source": [
        "mydt.mean(axis =0)"
      ],
      "execution_count": 33,
      "outputs": [
        {
          "output_type": "execute_result",
          "data": {
            "text/plain": [
              "id    13.0\n",
              "dtype: float64"
            ]
          },
          "metadata": {
            "tags": []
          },
          "execution_count": 33
        }
      ]
    },
    {
      "cell_type": "code",
      "metadata": {
        "id": "OrasDaZOB_82",
        "colab_type": "code",
        "colab": {
          "base_uri": "https://localhost:8080/",
          "height": 67
        },
        "outputId": "e9febb72-8706-4674-b162-7159cc4b46ff"
      },
      "source": [
        "mydt.max(axis =0)"
      ],
      "execution_count": 34,
      "outputs": [
        {
          "output_type": "execute_result",
          "data": {
            "text/plain": [
              "id            15\n",
              "first_name     E\n",
              "dtype: object"
            ]
          },
          "metadata": {
            "tags": []
          },
          "execution_count": 34
        }
      ]
    },
    {
      "cell_type": "code",
      "metadata": {
        "id": "IJ8zdQRHCD7A",
        "colab_type": "code",
        "colab": {
          "base_uri": "https://localhost:8080/",
          "height": 67
        },
        "outputId": "59b100ca-c43a-4bc3-ec93-476ebd437ede"
      },
      "source": [
        "mydt.min(axis =0)"
      ],
      "execution_count": 35,
      "outputs": [
        {
          "output_type": "execute_result",
          "data": {
            "text/plain": [
              "id            11\n",
              "first_name     A\n",
              "dtype: object"
            ]
          },
          "metadata": {
            "tags": []
          },
          "execution_count": 35
        }
      ]
    },
    {
      "cell_type": "code",
      "metadata": {
        "id": "N0E5a0YzCJ6A",
        "colab_type": "code",
        "colab": {
          "base_uri": "https://localhost:8080/",
          "height": 118
        },
        "outputId": "ee787197-25df-4d1f-aaf2-2d59ddce0804"
      },
      "source": [
        "print(mydt)"
      ],
      "execution_count": 36,
      "outputs": [
        {
          "output_type": "stream",
          "text": [
            "   id first_name\n",
            "0  11          A\n",
            "1  12          B\n",
            "2  13          C\n",
            "3  14          D\n",
            "4  15          E\n"
          ],
          "name": "stdout"
        }
      ]
    },
    {
      "cell_type": "code",
      "metadata": {
        "id": "toDME0lRx9v7",
        "colab_type": "code",
        "colab": {}
      },
      "source": [
        "ds={'id':[11,12,13,14,15]}\n",
        "myds=pd.DataFrame(ds)"
      ],
      "execution_count": 0,
      "outputs": []
    },
    {
      "cell_type": "code",
      "metadata": {
        "id": "MduLpt7n_jMO",
        "colab_type": "code",
        "colab": {}
      },
      "source": [
        "import numpy as np"
      ],
      "execution_count": 0,
      "outputs": []
    },
    {
      "cell_type": "code",
      "metadata": {
        "id": "s2_WJFNaCduD",
        "colab_type": "code",
        "colab": {
          "base_uri": "https://localhost:8080/",
          "height": 34
        },
        "outputId": "8fb84b80-b9e4-481f-e45b-ee4e2954eb04"
      },
      "source": [
        "\n",
        "li=[1,2,3,4,5]\n",
        "array=np.array(li)\n",
        "print(array)"
      ],
      "execution_count": 38,
      "outputs": [
        {
          "output_type": "stream",
          "text": [
            "[1 2 3 4 5]\n"
          ],
          "name": "stdout"
        }
      ]
    },
    {
      "cell_type": "code",
      "metadata": {
        "id": "ajWU2x3LCkMh",
        "colab_type": "code",
        "colab": {
          "base_uri": "https://localhost:8080/",
          "height": 50
        },
        "outputId": "12111b2e-01fa-42f5-bdca-d11ffc9c7ede"
      },
      "source": [
        "a1=np.array([(1,2,3),(4,5,6)])\n",
        "print(a1.shape)\n",
        "a2=np.array([(1,2),(2,3),(4,5)])\n",
        "print(a2.shape)"
      ],
      "execution_count": 39,
      "outputs": [
        {
          "output_type": "stream",
          "text": [
            "(2, 3)\n",
            "(3, 2)\n"
          ],
          "name": "stdout"
        }
      ]
    },
    {
      "cell_type": "code",
      "metadata": {
        "id": "x0VVdbLuFAaY",
        "colab_type": "code",
        "colab": {
          "base_uri": "https://localhost:8080/",
          "height": 67
        },
        "outputId": "ca75136e-86be-4c87-eca1-9429cf98c0fd"
      },
      "source": [
        "a1=np.array([(1,2,3),(4,5,6)])\n",
        "a1.reshape(3,2)"
      ],
      "execution_count": 40,
      "outputs": [
        {
          "output_type": "execute_result",
          "data": {
            "text/plain": [
              "array([[1, 2],\n",
              "       [3, 4],\n",
              "       [5, 6]])"
            ]
          },
          "metadata": {
            "tags": []
          },
          "execution_count": 40
        }
      ]
    },
    {
      "cell_type": "code",
      "metadata": {
        "id": "iPBhPXBrFMW2",
        "colab_type": "code",
        "colab": {}
      },
      "source": [
        ""
      ],
      "execution_count": 0,
      "outputs": []
    }
  ]
}
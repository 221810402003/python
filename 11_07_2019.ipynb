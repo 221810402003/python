{
  "nbformat": 4,
  "nbformat_minor": 0,
  "metadata": {
    "colab": {
      "name": "11-07-2019",
      "version": "0.3.2",
      "provenance": [],
      "include_colab_link": true
    },
    "kernelspec": {
      "name": "python3",
      "display_name": "Python 3"
    }
  },
  "cells": [
    {
      "cell_type": "markdown",
      "metadata": {
        "id": "view-in-github",
        "colab_type": "text"
      },
      "source": [
        "<a href=\"https://colab.research.google.com/github/221810402003/python/blob/master/11_07_2019.ipynb\" target=\"_parent\"><img src=\"https://colab.research.google.com/assets/colab-badge.svg\" alt=\"Open In Colab\"/></a>"
      ]
    },
    {
      "cell_type": "code",
      "metadata": {
        "id": "aVCLwhv0MlFr",
        "colab_type": "code",
        "outputId": "fe33c052-a308-4df3-fc7d-85838aad2cb8",
        "colab": {
          "base_uri": "https://localhost:8080/",
          "height": 34
        }
      },
      "source": [
        "def create(filename):\n",
        "  f=open(filename,'w')\n",
        "  for i in range(10):\n",
        "    f.write('This is %d Line\\n'%i)\n",
        "  print(\"File has been created and data is written\")\n",
        "  return\n",
        "create('file1.txt')"
      ],
      "execution_count": 0,
      "outputs": [
        {
          "output_type": "stream",
          "text": [
            "File has been created and data is written\n"
          ],
          "name": "stdout"
        }
      ]
    },
    {
      "cell_type": "code",
      "metadata": {
        "id": "cWJLbhdUNynM",
        "colab_type": "code",
        "outputId": "1dcf9afe-a33f-4c7b-b603-9357a190c62c",
        "colab": {
          "base_uri": "https://localhost:8080/",
          "height": 34
        }
      },
      "source": [
        "ls"
      ],
      "execution_count": 0,
      "outputs": [
        {
          "output_type": "stream",
          "text": [
            "file1.txt  \u001b[0m\u001b[01;34msample_data\u001b[0m/\n"
          ],
          "name": "stdout"
        }
      ]
    },
    {
      "cell_type": "code",
      "metadata": {
        "id": "R39H_3aGOyf8",
        "colab_type": "code",
        "outputId": "e9538132-7a86-4e31-d58b-5c28f197c0ee",
        "colab": {
          "base_uri": "https://localhost:8080/",
          "height": 34
        }
      },
      "source": [
        "def create(filename):\n",
        "  f=open(filename,'w')\n",
        "  for i in range(10):\n",
        "    f.write('This is %d Line\\n'%i)\n",
        "  print(\"File has been created and data is written\")\n",
        "  return\n",
        "create('file1.txt')"
      ],
      "execution_count": 0,
      "outputs": [
        {
          "output_type": "stream",
          "text": [
            "File has been created and data is written\n"
          ],
          "name": "stdout"
        }
      ]
    },
    {
      "cell_type": "code",
      "metadata": {
        "id": "QJC372PzO3Ns",
        "colab_type": "code",
        "outputId": "d65547f6-9c06-456b-cecf-865a1d860c8b",
        "colab": {
          "base_uri": "https://localhost:8080/",
          "height": 185
        }
      },
      "source": [
        "cat file1.txt"
      ],
      "execution_count": 0,
      "outputs": [
        {
          "output_type": "stream",
          "text": [
            "This is 0 Line\n",
            "This is 1 Line\n",
            "This is 2 Line\n",
            "This is 3 Line\n",
            "This is 4 Line\n",
            "This is 5 Line\n",
            "This is 6 Line\n",
            "This is 7 Line\n",
            "This is 8 Line\n",
            "This is 9 Line\n"
          ],
          "name": "stdout"
        }
      ]
    },
    {
      "cell_type": "code",
      "metadata": {
        "id": "Rck4DXRTPapq",
        "colab_type": "code",
        "outputId": "e85c4d84-d2ea-49b6-f7b2-34fba4d34bf0",
        "colab": {
          "base_uri": "https://localhost:8080/",
          "height": 34
        }
      },
      "source": [
        "def create(filename):\n",
        "  f=open(filename,'w')\n",
        "  f.write('testing\\n')\n",
        "  print(\"File has been created and data is written\")\n",
        "  return\n",
        "create('file1.txt')"
      ],
      "execution_count": 0,
      "outputs": [
        {
          "output_type": "stream",
          "text": [
            "File has been created and data is written\n"
          ],
          "name": "stdout"
        }
      ]
    },
    {
      "cell_type": "code",
      "metadata": {
        "id": "RlJYz1kTQHJt",
        "colab_type": "code",
        "outputId": "f682558d-e245-4704-a186-4a965368ff66",
        "colab": {
          "base_uri": "https://localhost:8080/",
          "height": 34
        }
      },
      "source": [
        "cat file1.txt"
      ],
      "execution_count": 0,
      "outputs": [
        {
          "output_type": "stream",
          "text": [
            "testing\n"
          ],
          "name": "stdout"
        }
      ]
    },
    {
      "cell_type": "code",
      "metadata": {
        "id": "AYEoq6ohQQHV",
        "colab_type": "code",
        "outputId": "625895b6-2732-4983-acad-0a15e060e539",
        "colab": {
          "base_uri": "https://localhost:8080/",
          "height": 34
        }
      },
      "source": [
        "def append(filename):\n",
        "  f=open(filename,'a')\n",
        "  for i in range(10):\n",
        "    f.write('This is %d Line\\n'%i)\n",
        "  print(\"File has been created and data is written\")\n",
        "  return\n",
        "append('file2.txt')"
      ],
      "execution_count": 0,
      "outputs": [
        {
          "output_type": "stream",
          "text": [
            "File has been created and data is written\n"
          ],
          "name": "stdout"
        }
      ]
    },
    {
      "cell_type": "code",
      "metadata": {
        "id": "gXEuXKuQS7gS",
        "colab_type": "code",
        "outputId": "daa6f4f6-9706-4268-baf3-59a14f99ec56",
        "colab": {
          "base_uri": "https://localhost:8080/",
          "height": 185
        }
      },
      "source": [
        "cat file2.txt"
      ],
      "execution_count": 0,
      "outputs": [
        {
          "output_type": "stream",
          "text": [
            "This is 0 Line\n",
            "This is 1 Line\n",
            "This is 2 Line\n",
            "This is 3 Line\n",
            "This is 4 Line\n",
            "This is 5 Line\n",
            "This is 6 Line\n",
            "This is 7 Line\n",
            "This is 8 Line\n",
            "This is 9 Line\n"
          ],
          "name": "stdout"
        }
      ]
    },
    {
      "cell_type": "code",
      "metadata": {
        "id": "j6Fu9os1S-Id",
        "colab_type": "code",
        "colab": {}
      },
      "source": [
        "def append(filename):\n",
        "  f=open(filename,'a')\n",
        "  f.write(\"New line 1\\n\")\n",
        "  f.write(\"New line 2\\n\")\n",
        "  return\n",
        "append('file2.txt')"
      ],
      "execution_count": 0,
      "outputs": []
    },
    {
      "cell_type": "code",
      "metadata": {
        "id": "xb0Py4zVTVbo",
        "colab_type": "code",
        "outputId": "7766d4ca-9682-4beb-ee28-b9c5073d82c8",
        "colab": {
          "base_uri": "https://localhost:8080/",
          "height": 218
        }
      },
      "source": [
        "cat file2.txt"
      ],
      "execution_count": 0,
      "outputs": [
        {
          "output_type": "stream",
          "text": [
            "This is 0 Line\n",
            "This is 1 Line\n",
            "This is 2 Line\n",
            "This is 3 Line\n",
            "This is 4 Line\n",
            "This is 5 Line\n",
            "This is 6 Line\n",
            "This is 7 Line\n",
            "This is 8 Line\n",
            "This is 9 Line\n",
            "New line 1\n",
            "New line 2\n"
          ],
          "name": "stdout"
        }
      ]
    },
    {
      "cell_type": "code",
      "metadata": {
        "id": "jwnT3tHJTsSf",
        "colab_type": "code",
        "outputId": "26b7e5e6-2ac9-46f0-c810-ef27c63ee8e8",
        "colab": {
          "base_uri": "https://localhost:8080/",
          "height": 235
        }
      },
      "source": [
        "def read(filename):\n",
        "  f=open(filename,'r')\n",
        "  if f.mode=='r':\n",
        "    x=f.read()\n",
        "    print(x)\n",
        "  f.close\n",
        "  return\n",
        "read('file2.txt')"
      ],
      "execution_count": 0,
      "outputs": [
        {
          "output_type": "stream",
          "text": [
            "This is 0 Line\n",
            "This is 1 Line\n",
            "This is 2 Line\n",
            "This is 3 Line\n",
            "This is 4 Line\n",
            "This is 5 Line\n",
            "This is 6 Line\n",
            "This is 7 Line\n",
            "This is 8 Line\n",
            "This is 9 Line\n",
            "New line 1\n",
            "New line 2\n",
            "\n"
          ],
          "name": "stdout"
        }
      ]
    },
    {
      "cell_type": "code",
      "metadata": {
        "id": "mD17tSL1VgDY",
        "colab_type": "code",
        "outputId": "25e3413d-5a37-498a-d9b0-cc52dd9e0244",
        "colab": {
          "base_uri": "https://localhost:8080/",
          "height": 269
        }
      },
      "source": [
        "def read(filename,mode):\n",
        "  with open(filename,mode)as f:\n",
        "    if f.mode=='r':\n",
        "      data=f.read()\n",
        "      print(data)\n",
        "    elif f.mode=='a':\n",
        "      f.write('Data to the file')\n",
        "      print(\"success\")\n",
        "  f.close()\n",
        "  return\n",
        "filename=input('enter')\n",
        "mode=input('enter')\n",
        "read(filename,mode)"
      ],
      "execution_count": 0,
      "outputs": [
        {
          "output_type": "stream",
          "text": [
            "enterfile2.txt\n",
            "enterr\n",
            "This is 0 Line\n",
            "This is 1 Line\n",
            "This is 2 Line\n",
            "This is 3 Line\n",
            "This is 4 Line\n",
            "This is 5 Line\n",
            "This is 6 Line\n",
            "This is 7 Line\n",
            "This is 8 Line\n",
            "This is 9 Line\n",
            "New line 1\n",
            "New line 2\n",
            "\n"
          ],
          "name": "stdout"
        }
      ]
    },
    {
      "cell_type": "code",
      "metadata": {
        "id": "xK_gX5KhXxA9",
        "colab_type": "code",
        "outputId": "fa38918d-2c7f-4657-88ff-322dc8c5bf33",
        "colab": {
          "base_uri": "https://localhost:8080/",
          "height": 67
        }
      },
      "source": [
        "def new(filename,mode):\n",
        "  with open(filename,'r')as f:\n",
        "    if f.mode=='r':\n",
        "      x=f.read()\n",
        "      li=x.split()\n",
        "  cnt=li.count(mode)\n",
        "  return cnt\n",
        "filename=input(\"enter \")\n",
        "mode=input(\"enter \")\n",
        "new(filename,mode)"
      ],
      "execution_count": 0,
      "outputs": [
        {
          "output_type": "stream",
          "text": [
            "enter file2.txt\n",
            "enter r\n"
          ],
          "name": "stdout"
        },
        {
          "output_type": "execute_result",
          "data": {
            "text/plain": [
              "0"
            ]
          },
          "metadata": {
            "tags": []
          },
          "execution_count": 24
        }
      ]
    },
    {
      "cell_type": "code",
      "metadata": {
        "id": "EVII7Yu4b5AO",
        "colab_type": "code",
        "outputId": "966f2a13-63d9-4e78-a59e-87986c2128bb",
        "colab": {
          "base_uri": "https://localhost:8080/",
          "height": 67
        }
      },
      "source": [
        "def new(filename,mode):\n",
        "  with open(filename,'r')as f:\n",
        "    if f.mode=='r':\n",
        "      x=f.read()\n",
        "      li=list(x)\n",
        "  cnt=li.count(mode)\n",
        "  return cnt\n",
        "filename=input(\"enter \")\n",
        "mode=input(\"enter \")\n",
        "new(filename,mode)"
      ],
      "execution_count": 0,
      "outputs": [
        {
          "output_type": "stream",
          "text": [
            "enter file1.txt\n",
            "enter t\n"
          ],
          "name": "stdout"
        },
        {
          "output_type": "execute_result",
          "data": {
            "text/plain": [
              "2"
            ]
          },
          "metadata": {
            "tags": []
          },
          "execution_count": 30
        }
      ]
    },
    {
      "cell_type": "code",
      "metadata": {
        "id": "hAL2btO1o9qt",
        "colab_type": "code",
        "outputId": "e3e6d7db-5637-4169-fae4-efd3072a9e02",
        "colab": {
          "base_uri": "https://localhost:8080/",
          "height": 50
        }
      },
      "source": [
        "def new(filename):\n",
        "  cnt=0\n",
        "  with open(filename,'r')as f:\n",
        "    if f.mode=='r':\n",
        "      x=f.read()\n",
        "      for i in x:\n",
        "        if i=='\\n':\n",
        "          cnt=cnt+1\n",
        "  return cnt\n",
        "filename=input(\"enter \")\n",
        "new(filename)"
      ],
      "execution_count": 0,
      "outputs": [
        {
          "output_type": "stream",
          "text": [
            "enter file2.txt\n"
          ],
          "name": "stdout"
        },
        {
          "output_type": "execute_result",
          "data": {
            "text/plain": [
              "12"
            ]
          },
          "metadata": {
            "tags": []
          },
          "execution_count": 32
        }
      ]
    },
    {
      "cell_type": "code",
      "metadata": {
        "id": "I2_lcUZrtu2d",
        "colab_type": "code",
        "outputId": "0e537cc3-0297-43cd-b2ed-ac409ab32d52",
        "colab": {
          "base_uri": "https://localhost:8080/",
          "height": 50
        }
      },
      "source": [
        "def count(filename):\n",
        "  cntu=0\n",
        "  cntl=0\n",
        "  with open(filename,'r')as f:\n",
        "    if f.mode=='r':\n",
        "      x=f.read()\n",
        "      li=list(x)\n",
        "  for i in li:\n",
        "    if i.isupper():\n",
        "      cntu+=1\n",
        "    elif i in li:\n",
        "      cntl+=1\n",
        "  output='upper case={0}, lower case= {1}'.format(cntu,cntl)\n",
        "  return output\n",
        "filename=input(\"enter \")\n",
        "count(filename)"
      ],
      "execution_count": 0,
      "outputs": [
        {
          "output_type": "stream",
          "text": [
            "enter file2.txt\n"
          ],
          "name": "stdout"
        },
        {
          "output_type": "execute_result",
          "data": {
            "text/plain": [
              "'upper case=22, lower case= 150'"
            ]
          },
          "metadata": {
            "tags": []
          },
          "execution_count": 38
        }
      ]
    },
    {
      "cell_type": "code",
      "metadata": {
        "id": "8QSvdwKjxQdV",
        "colab_type": "code",
        "outputId": "08231b00-697d-42a2-8def-6c8d2529fcd8",
        "colab": {
          "base_uri": "https://localhost:8080/",
          "height": 34
        }
      },
      "source": [
        "ls"
      ],
      "execution_count": 0,
      "outputs": [
        {
          "output_type": "stream",
          "text": [
            "file1.txt  file2.txt  \u001b[0m\u001b[01;34msample_data\u001b[0m/\n"
          ],
          "name": "stdout"
        }
      ]
    },
    {
      "cell_type": "code",
      "metadata": {
        "id": "40CXPkIqQmbF",
        "colab_type": "code",
        "colab": {}
      },
      "source": [
        ""
      ],
      "execution_count": 0,
      "outputs": []
    }
  ]
}
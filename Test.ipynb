{
  "nbformat": 4,
  "nbformat_minor": 0,
  "metadata": {
    "colab": {
      "name": "Test",
      "version": "0.3.2",
      "provenance": [],
      "include_colab_link": true
    },
    "kernelspec": {
      "name": "python3",
      "display_name": "Python 3"
    }
  },
  "cells": [
    {
      "cell_type": "markdown",
      "metadata": {
        "id": "view-in-github",
        "colab_type": "text"
      },
      "source": [
        "<a href=\"https://colab.research.google.com/github/221810402003/python/blob/master/Test.ipynb\" target=\"_parent\"><img src=\"https://colab.research.google.com/assets/colab-badge.svg\" alt=\"Open In Colab\"/></a>"
      ]
    },
    {
      "cell_type": "code",
      "metadata": {
        "id": "d0He7g6aOu44",
        "colab_type": "code",
        "colab": {
          "base_uri": "https://localhost:8080/",
          "height": 50
        },
        "outputId": "367313bb-068c-47b8-fc5c-d7e2abacc06a"
      },
      "source": [
        "n=int(input(\"enter\"))\n",
        "r=n\n",
        "l=0\n",
        "while n>0:\n",
        "  r=n%10\n",
        "  if r>l:\n",
        "    l=r\n",
        "  n=int(n/10)\n",
        "print(l)"
      ],
      "execution_count": 11,
      "outputs": [
        {
          "output_type": "stream",
          "text": [
            "enter9558\n",
            "9\n"
          ],
          "name": "stdout"
        }
      ]
    },
    {
      "cell_type": "code",
      "metadata": {
        "id": "7E_HNfbFUzTj",
        "colab_type": "code",
        "colab": {
          "base_uri": "https://localhost:8080/",
          "height": 67
        },
        "outputId": "e04ba6ae-9907-4e46-b941-656c3f507cdf"
      },
      "source": [
        "n=int(input(\"enter \"))\n",
        "m=int(input(\"enter \"))\n",
        "rev=0\n",
        "cnt=0\n",
        "for i in range(n,m):\n",
        "  while n!=0:\n",
        "    r=n%10\n",
        "    rev=rev*10+r\n",
        "    n=n//10\n",
        "  cnt=cnt+1\n",
        "  n=n+1\n",
        "  if n==m:\n",
        "    break\n",
        "print(cnt)  "
      ],
      "execution_count": 20,
      "outputs": [
        {
          "output_type": "stream",
          "text": [
            "enter 1\n",
            "enter 10\n",
            "9\n"
          ],
          "name": "stdout"
        }
      ]
    }
  ]
}
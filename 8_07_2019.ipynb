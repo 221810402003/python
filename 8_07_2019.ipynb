{
  "nbformat": 4,
  "nbformat_minor": 0,
  "metadata": {
    "colab": {
      "name": "8-07-2019",
      "version": "0.3.2",
      "provenance": [],
      "include_colab_link": true
    },
    "kernelspec": {
      "name": "python3",
      "display_name": "Python 3"
    }
  },
  "cells": [
    {
      "cell_type": "markdown",
      "metadata": {
        "id": "view-in-github",
        "colab_type": "text"
      },
      "source": [
        "<a href=\"https://colab.research.google.com/github/221810402003/python/blob/master/8_07_2019.ipynb\" target=\"_parent\"><img src=\"https://colab.research.google.com/assets/colab-badge.svg\" alt=\"Open In Colab\"/></a>"
      ]
    },
    {
      "cell_type": "code",
      "metadata": {
        "id": "JWXGB7Skr9vO",
        "colab_type": "code",
        "outputId": "faddf4dd-18a6-4496-a759-f3c378b56d2c",
        "colab": {
          "base_uri": "https://localhost:8080/",
          "height": 34
        }
      },
      "source": [
        "def factorslist(n):\n",
        "  for i in range(1,n+1):\n",
        "    if n%i==0:\n",
        "      print(i,end=\" \")\n",
        "  return\n",
        "factorslist(100)"
      ],
      "execution_count": 0,
      "outputs": [
        {
          "output_type": "stream",
          "text": [
            "1 2 4 5 10 20 25 50 100 "
          ],
          "name": "stdout"
        }
      ]
    },
    {
      "cell_type": "code",
      "metadata": {
        "id": "ltY__-h_tF_8",
        "colab_type": "code",
        "outputId": "44f98ec6-aa51-40c7-b3b1-f3fef716a194",
        "colab": {
          "base_uri": "https://localhost:8080/",
          "height": 34
        }
      },
      "source": [
        "def isprime(n):\n",
        "  flag = True\n",
        "  for i in range(2,n//2+1):\n",
        "    if n%i==0:\n",
        "      flag=False\n",
        "      return flag\n",
        "  return flag\n",
        "isprime(2)"
      ],
      "execution_count": 0,
      "outputs": [
        {
          "output_type": "execute_result",
          "data": {
            "text/plain": [
              "True"
            ]
          },
          "metadata": {
            "tags": []
          },
          "execution_count": 9
        }
      ]
    },
    {
      "cell_type": "code",
      "metadata": {
        "id": "c5yNKB1nuCiG",
        "colab_type": "code",
        "outputId": "684e87ac-8627-42f2-f4ec-db2b4e400e13",
        "colab": {
          "base_uri": "https://localhost:8080/",
          "height": 34
        }
      },
      "source": [
        "def prime(n):\n",
        "  cnt=0\n",
        "  for a in range(2,n+1):\n",
        "    k=0\n",
        "    for i in range(2,a//2+1):\n",
        "      if a%i==0:\n",
        "        k=k+1\n",
        "    if k<=0 :\n",
        "      cnt=cnt+1\n",
        "  return cnt\n",
        "prime(22)  "
      ],
      "execution_count": 0,
      "outputs": [
        {
          "output_type": "execute_result",
          "data": {
            "text/plain": [
              "8"
            ]
          },
          "metadata": {
            "tags": []
          },
          "execution_count": 24
        }
      ]
    },
    {
      "cell_type": "code",
      "metadata": {
        "id": "rBjjkMdCyje8",
        "colab_type": "code",
        "outputId": "4c18c8fb-ca21-452c-df62-5b5d39bc00a1",
        "colab": {
          "base_uri": "https://localhost:8080/",
          "height": 50
        }
      },
      "source": [
        "def factorial(n):\n",
        "  fact=1\n",
        "  for i in range(2,n+1):\n",
        "    fact*=i\n",
        "  return fact\n",
        "def digit(n):\n",
        "  sum=0\n",
        "  buffer=n\n",
        "  while n!=0:\n",
        "    r=n%10\n",
        "    sum=sum+factorial(r)\n",
        "    n=n//10\n",
        "  if sum==buffer:\n",
        "    return \"yes\"\n",
        "  else:\n",
        "    return \"no\"\n",
        "print(digit(145))\n",
        "print(digit(123))"
      ],
      "execution_count": 0,
      "outputs": [
        {
          "output_type": "stream",
          "text": [
            "yes\n",
            "no\n"
          ],
          "name": "stdout"
        }
      ]
    },
    {
      "cell_type": "code",
      "metadata": {
        "id": "z4aK5Yme6J-O",
        "colab_type": "code",
        "outputId": "57c8060d-2df9-4609-8e17-d82bcd5541f9",
        "colab": {
          "base_uri": "https://localhost:8080/",
          "height": 34
        }
      },
      "source": [
        "def ispalindrome(n):\n",
        "  rev=0\n",
        "  buffer=n\n",
        "  while n!=0:\n",
        "    r=n%10\n",
        "    rev=rev*10+r\n",
        "    n=n//10\n",
        "  if rev==buffer:\n",
        "    return \"True\"\n",
        "  else:\n",
        "    return \"False\"\n",
        "  return\n",
        "def countpalindrome(lb,ub):\n",
        "  cnt=0\n",
        "  while lb!=ub:\n",
        "    if ispalindrome(lb)==True:\n",
        "      cnt=cnt+1\n",
        "    else:\n",
        "      lb=lb+1\n",
        "  return cnt\n",
        "countpalindrome(1,30)"
      ],
      "execution_count": 0,
      "outputs": [
        {
          "output_type": "execute_result",
          "data": {
            "text/plain": [
              "0"
            ]
          },
          "metadata": {
            "tags": []
          },
          "execution_count": 57
        }
      ]
    },
    {
      "cell_type": "code",
      "metadata": {
        "id": "citxKVZkBOrJ",
        "colab_type": "code",
        "outputId": "e5b297db-f497-4b7d-8467-a6c806d49a35",
        "colab": {
          "base_uri": "https://localhost:8080/",
          "height": 50
        }
      },
      "source": [
        "def factors(n):\n",
        "  sum=0\n",
        "  a=n\n",
        "  for i in range(1,n//2+1):\n",
        "    if n%i==0:\n",
        "      sum=sum+i\n",
        "  return sum\n",
        "def isperfect(n):\n",
        "  if factors(n)==n:\n",
        "    return True\n",
        "  return False\n",
        "def generateperfect(lb,ub):\n",
        "  for x in range(lb,ub+1):\n",
        "    if isperfect(x):\n",
        "      print(x,end=\" \")\n",
        "  print()\n",
        "  return\n",
        "generateperfect(1,10)\n",
        "generateperfect(1,10000)"
      ],
      "execution_count": 0,
      "outputs": [
        {
          "output_type": "stream",
          "text": [
            "6 \n",
            "6 28 496 8128 \n"
          ],
          "name": "stdout"
        }
      ]
    },
    {
      "cell_type": "markdown",
      "metadata": {
        "id": "DuEDQgjdX_ev",
        "colab_type": "text"
      },
      "source": [
        "##STRINGS\n"
      ]
    },
    {
      "cell_type": "code",
      "metadata": {
        "id": "A7k6nwENX8rR",
        "colab_type": "code",
        "outputId": "2324e038-f0bd-49fe-9444-fcd18632056a",
        "colab": {
          "base_uri": "https://localhost:8080/",
          "height": 67
        }
      },
      "source": [
        "s1='python'\n",
        "print(s1)\n",
        "print(s1[len(s1)-1])\n",
        "print(len(s1))"
      ],
      "execution_count": 0,
      "outputs": [
        {
          "output_type": "stream",
          "text": [
            "python\n",
            "n\n",
            "6\n"
          ],
          "name": "stdout"
        }
      ]
    },
    {
      "cell_type": "code",
      "metadata": {
        "id": "p1sirJu_Z3CX",
        "colab_type": "code",
        "outputId": "aad7bc3c-f374-4bd6-cc35-b73e9e516dc3",
        "colab": {
          "base_uri": "https://localhost:8080/",
          "height": 202
        }
      },
      "source": [
        "print(s1[-1])\n",
        "print(s1[-2])\n",
        "print(s1[-3])\n",
        "print(s1[0:2])\n",
        "print(s1[2:6])\n",
        "print(s1[1:-1])\n",
        "print(s1[len(s1)//2])\n",
        "print(s1[-1::-1])\n",
        "print(s1[-1:-3:-1])\n",
        "print(s1[::2])\n",
        "print(s1[::3])\n",
        "print\n"
      ],
      "execution_count": 0,
      "outputs": [
        {
          "output_type": "stream",
          "text": [
            "n\n",
            "o\n",
            "h\n",
            "py\n",
            "thon\n",
            "ytho\n",
            "h\n",
            "nohtyp\n",
            "no\n",
            "pto\n",
            "ph\n"
          ],
          "name": "stdout"
        }
      ]
    },
    {
      "cell_type": "code",
      "metadata": {
        "id": "a-ZYCQdCdg_u",
        "colab_type": "code",
        "outputId": "a2d94e56-58c3-44e6-865a-3cdc83fd36cf",
        "colab": {
          "base_uri": "https://localhost:8080/",
          "height": 34
        }
      },
      "source": [
        "def reverse(str):\n",
        "  return str[-1::-1]\n",
        "reverse(\"programming\")"
      ],
      "execution_count": 0,
      "outputs": [
        {
          "output_type": "execute_result",
          "data": {
            "text/plain": [
              "'gnimmargorp'"
            ]
          },
          "metadata": {
            "tags": []
          },
          "execution_count": 81
        }
      ]
    },
    {
      "cell_type": "code",
      "metadata": {
        "id": "cI4Td-b-d58K",
        "colab_type": "code",
        "outputId": "e7f09f80-9738-4963-d6f6-6b5b933fc517",
        "colab": {
          "base_uri": "https://localhost:8080/",
          "height": 50
        }
      },
      "source": [
        "def palindrome(str):\n",
        "  if str==str[::-1]:\n",
        "    return True\n",
        "  else:\n",
        "    return False\n",
        "print(palindrome(\"python\"))\n",
        "print(palindrome(\"ganag\"))"
      ],
      "execution_count": 0,
      "outputs": [
        {
          "output_type": "stream",
          "text": [
            "False\n",
            "True\n"
          ],
          "name": "stdout"
        }
      ]
    },
    {
      "cell_type": "code",
      "metadata": {
        "id": "ev_qzORavey0",
        "colab_type": "code",
        "outputId": "dc4e9ce1-ca93-423d-9560-9ac64d465abe",
        "colab": {
          "base_uri": "https://localhost:8080/",
          "height": 101
        }
      },
      "source": [
        "def upper(x):\n",
        "  for i in range(len(x)):\n",
        "    if ord(x[i])>=65 and ord(x[i])<=90:\n",
        "      print(x[i])\n",
        "  return\n",
        "upper(\"PyTHON\")"
      ],
      "execution_count": 0,
      "outputs": [
        {
          "output_type": "stream",
          "text": [
            "P\n",
            "T\n",
            "H\n",
            "O\n",
            "N\n"
          ],
          "name": "stdout"
        }
      ]
    },
    {
      "cell_type": "code",
      "metadata": {
        "id": "TX2Ok1PNyvh4",
        "colab_type": "code",
        "outputId": "38a11e31-2544-4fbb-ebbf-06dff59ce8a2",
        "colab": {
          "base_uri": "https://localhost:8080/",
          "height": 50
        }
      },
      "source": [
        "def count(str):\n",
        "  add=0\n",
        "  cnt=0\n",
        "  for i in range(len(str)):\n",
        "    if ord(str[i])>=65 and ord(str[i])<=90:\n",
        "      cnt=cnt+1\n",
        "    else:\n",
        "      i=i+1  \n",
        "  for j in range(len(str)):\n",
        "    if ord(str[j])>=97 and ord(str[j])<=122:\n",
        "      add=add+1\n",
        "    else:\n",
        "      j=j+1\n",
        "  print(cnt)\n",
        "  print(add)\n",
        "count(\"PyThon\")"
      ],
      "execution_count": 0,
      "outputs": [
        {
          "output_type": "stream",
          "text": [
            "2\n",
            "4\n"
          ],
          "name": "stdout"
        }
      ]
    },
    {
      "cell_type": "code",
      "metadata": {
        "id": "VxYw68gv4qI9",
        "colab_type": "code",
        "outputId": "f260b405-cd62-46b9-ffe2-83eceabe2bb3",
        "colab": {
          "base_uri": "https://localhost:8080/",
          "height": 34
        }
      },
      "source": [
        "def num(x):\n",
        "  for i in range(len(x)):\n",
        "    if ord(x[i])>=48 and ord(x[i])<=57:\n",
        "      print(x[i],end=\" \")\n",
        "num(\"5u5h4nt\")      "
      ],
      "execution_count": 0,
      "outputs": [
        {
          "output_type": "stream",
          "text": [
            "5 5 4 "
          ],
          "name": "stdout"
        }
      ]
    },
    {
      "cell_type": "code",
      "metadata": {
        "id": "WIdQS4YU-yeb",
        "colab_type": "code",
        "outputId": "2204f0b8-aeaf-41dd-dfc9-933811946d6d",
        "colab": {
          "base_uri": "https://localhost:8080/",
          "height": 34
        }
      },
      "source": [
        "def num(x):\n",
        "  sum=0\n",
        "  for i in range(len(x)):\n",
        "    if ord(x[i])>=48 and ord(x[i])<=57:\n",
        "      sum=sum+(ord(x[i])-48)\n",
        "  return sum\n",
        "num(\"5u5h4nt\")      "
      ],
      "execution_count": 0,
      "outputs": [
        {
          "output_type": "execute_result",
          "data": {
            "text/plain": [
              "14"
            ]
          },
          "metadata": {
            "tags": []
          },
          "execution_count": 109
        }
      ]
    },
    {
      "cell_type": "code",
      "metadata": {
        "id": "dncfoiBq_djI",
        "colab_type": "code",
        "outputId": "64a464d4-9a61-4bea-c79c-0b5aa38d9e44",
        "colab": {
          "base_uri": "https://localhost:8080/",
          "height": 34
        }
      },
      "source": [
        "def num(x):\n",
        "  sum=0\n",
        "  for i in range(len(x)):\n",
        "    if ord(x[i])>=48 and ord(x[i])<=57:\n",
        "      if (ord(x[i])-48)%2==0:\n",
        "        sum=sum+(ord(x[i])-48)\n",
        "  return sum\n",
        "num(\"5u5h4nt\")      "
      ],
      "execution_count": 0,
      "outputs": [
        {
          "output_type": "execute_result",
          "data": {
            "text/plain": [
              "4"
            ]
          },
          "metadata": {
            "tags": []
          },
          "execution_count": 110
        }
      ]
    },
    {
      "cell_type": "code",
      "metadata": {
        "id": "j8_mcc3aBiQE",
        "colab_type": "code",
        "outputId": "346dca41-8381-489f-bb45-a7cc5b927a9c",
        "colab": {
          "base_uri": "https://localhost:8080/",
          "height": 34
        }
      },
      "source": [
        "def num(x):\n",
        "  cnt=0\n",
        "  for i in range(len(x)):\n",
        "    if ord(x[i])==32:\n",
        "      cnt=cnt+1\n",
        "    if cnt==1:\n",
        "      if ord(x[i])>=65 and ord(x[i])<=90:\n",
        "        print(ord(x[i]),end=\"\")\n",
        "      elif ord(x[i])>=97 and ord(x[i])<=122:\n",
        "        print(chr(ord(x[i])-32),end=\"\")\n",
        "    if cnt==2:\n",
        "      break\n",
        "  return \n",
        "num(\"Python Made Easy\")      "
      ],
      "execution_count": 0,
      "outputs": [
        {
          "output_type": "stream",
          "text": [
            "77ADE"
          ],
          "name": "stdout"
        }
      ]
    },
    {
      "cell_type": "code",
      "metadata": {
        "id": "Hyb4IdFcJGxw",
        "colab_type": "code",
        "colab": {}
      },
      "source": [
        ""
      ],
      "execution_count": 0,
      "outputs": []
    }
  ]
}
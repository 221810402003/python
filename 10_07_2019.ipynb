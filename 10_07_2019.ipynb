{
  "nbformat": 4,
  "nbformat_minor": 0,
  "metadata": {
    "colab": {
      "name": "10-07-2019",
      "version": "0.3.2",
      "provenance": [],
      "include_colab_link": true
    },
    "kernelspec": {
      "name": "python3",
      "display_name": "Python 3"
    }
  },
  "cells": [
    {
      "cell_type": "markdown",
      "metadata": {
        "id": "view-in-github",
        "colab_type": "text"
      },
      "source": [
        "<a href=\"https://colab.research.google.com/github/221810402003/python/blob/master/10_07_2019.ipynb\" target=\"_parent\"><img src=\"https://colab.research.google.com/assets/colab-badge.svg\" alt=\"Open In Colab\"/></a>"
      ]
    },
    {
      "cell_type": "code",
      "metadata": {
        "id": "YX9tmo089hM3",
        "colab_type": "code",
        "outputId": "85ddf9f0-0658-414d-8a50-ebb0fa5926ee",
        "colab": {
          "base_uri": "https://localhost:8080/",
          "height": 34
        }
      },
      "source": [
        "d1={\"Name\":\"Sushant\",\"Email\":\"gitam@gmail.com\"}\n",
        "print(d1)"
      ],
      "execution_count": 0,
      "outputs": [
        {
          "output_type": "stream",
          "text": [
            "{'Name': 'Sushant', 'Email': 'gitam@gmail.com'}\n"
          ],
          "name": "stdout"
        }
      ]
    },
    {
      "cell_type": "code",
      "metadata": {
        "id": "jfNhaqUEBA5R",
        "colab_type": "code",
        "outputId": "97ad19d1-6901-40a4-d768-327537eb2e98",
        "colab": {
          "base_uri": "https://localhost:8080/",
          "height": 34
        }
      },
      "source": [
        "d1[\"Name\"]"
      ],
      "execution_count": 0,
      "outputs": [
        {
          "output_type": "execute_result",
          "data": {
            "text/plain": [
              "'Sushant'"
            ]
          },
          "metadata": {
            "tags": []
          },
          "execution_count": 6
        }
      ]
    },
    {
      "cell_type": "code",
      "metadata": {
        "id": "f7FsLZ3eBJFD",
        "colab_type": "code",
        "outputId": "2f798f75-061a-4c4a-f546-ef380ce0046b",
        "colab": {
          "base_uri": "https://localhost:8080/",
          "height": 34
        }
      },
      "source": [
        "d1[\"Email\"]"
      ],
      "execution_count": 0,
      "outputs": [
        {
          "output_type": "execute_result",
          "data": {
            "text/plain": [
              "'gitam@gmail.com'"
            ]
          },
          "metadata": {
            "tags": []
          },
          "execution_count": 7
        }
      ]
    },
    {
      "cell_type": "code",
      "metadata": {
        "id": "STxVR_qUBVIs",
        "colab_type": "code",
        "colab": {}
      },
      "source": [
        "del d1[\"Email\"]"
      ],
      "execution_count": 0,
      "outputs": []
    },
    {
      "cell_type": "code",
      "metadata": {
        "id": "WpFzgSTFBh46",
        "colab_type": "code",
        "outputId": "5ebcc8de-2aad-4de1-d2b7-220381369a23",
        "colab": {
          "base_uri": "https://localhost:8080/",
          "height": 34
        }
      },
      "source": [
        "d1"
      ],
      "execution_count": 0,
      "outputs": [
        {
          "output_type": "execute_result",
          "data": {
            "text/plain": [
              "{'Name': 'Sushant'}"
            ]
          },
          "metadata": {
            "tags": []
          },
          "execution_count": 10
        }
      ]
    },
    {
      "cell_type": "code",
      "metadata": {
        "id": "3-k4lZ3xCYkS",
        "colab_type": "code",
        "outputId": "bfb4ff3d-9356-4ff7-e3ef-fac2933a424c",
        "colab": {
          "base_uri": "https://localhost:8080/",
          "height": 34
        }
      },
      "source": [
        "d1.keys()"
      ],
      "execution_count": 0,
      "outputs": [
        {
          "output_type": "execute_result",
          "data": {
            "text/plain": [
              "dict_keys(['Name'])"
            ]
          },
          "metadata": {
            "tags": []
          },
          "execution_count": 11
        }
      ]
    },
    {
      "cell_type": "code",
      "metadata": {
        "id": "Gmu5umIqDPRJ",
        "colab_type": "code",
        "outputId": "742b0620-06f4-43b2-8613-db75439b2baa",
        "colab": {
          "base_uri": "https://localhost:8080/",
          "height": 34
        }
      },
      "source": [
        "d1.values()"
      ],
      "execution_count": 0,
      "outputs": [
        {
          "output_type": "execute_result",
          "data": {
            "text/plain": [
              "dict_values(['Sushant'])"
            ]
          },
          "metadata": {
            "tags": []
          },
          "execution_count": 12
        }
      ]
    },
    {
      "cell_type": "code",
      "metadata": {
        "id": "giFo3tu6DU9q",
        "colab_type": "code",
        "outputId": "046e8c7b-0c00-4dd4-926d-a038c737bd23",
        "colab": {
          "base_uri": "https://localhost:8080/",
          "height": 34
        }
      },
      "source": [
        "d1.items()"
      ],
      "execution_count": 0,
      "outputs": [
        {
          "output_type": "execute_result",
          "data": {
            "text/plain": [
              "dict_items([('Name', 'Sushant')])"
            ]
          },
          "metadata": {
            "tags": []
          },
          "execution_count": 13
        }
      ]
    },
    {
      "cell_type": "code",
      "metadata": {
        "id": "0QmK7KJ2DYFT",
        "colab_type": "code",
        "outputId": "d18158d3-8c58-4e5b-b784-375ddcbdac46",
        "colab": {
          "base_uri": "https://localhost:8080/",
          "height": 34
        }
      },
      "source": [
        "t1=(1,2,3,4,5)\n",
        "t1\n",
        "type(t1)"
      ],
      "execution_count": 0,
      "outputs": [
        {
          "output_type": "execute_result",
          "data": {
            "text/plain": [
              "tuple"
            ]
          },
          "metadata": {
            "tags": []
          },
          "execution_count": 14
        }
      ]
    },
    {
      "cell_type": "code",
      "metadata": {
        "id": "R_5tVZMAFZHr",
        "colab_type": "code",
        "outputId": "882ec27d-4416-43fb-be01-4ca5c4b13e87",
        "colab": {
          "base_uri": "https://localhost:8080/",
          "height": 67
        }
      },
      "source": [
        "contacts={}\n",
        "def add(name,phone):\n",
        "  if name not in contacts:\n",
        "    contacts[name]=phone\n",
        "    print(\"contact details are added\")\n",
        "  else:\n",
        "    print(\"contact details exists\")\n",
        "  return\n",
        "add('Anil','123466855')\n",
        "add('zubin','9987558548')\n",
        "add('Anil','123466855')\n"
      ],
      "execution_count": 0,
      "outputs": [
        {
          "output_type": "stream",
          "text": [
            "contact details are added\n",
            "contact details are added\n",
            "contact details exists\n"
          ],
          "name": "stdout"
        }
      ]
    },
    {
      "cell_type": "code",
      "metadata": {
        "id": "mKOqpj4RIkyy",
        "colab_type": "code",
        "outputId": "537a36ce-04f2-4582-9110-d32c43d2d301",
        "colab": {
          "base_uri": "https://localhost:8080/",
          "height": 50
        }
      },
      "source": [
        "def search(name):\n",
        "  if name in contacts:\n",
        "    print(name,\" : \",contacts[name])\n",
        "  else:\n",
        "    print(\"%s does not exist\")\n",
        "  return\n",
        "search('Anil')\n",
        "search('Harsha')"
      ],
      "execution_count": 0,
      "outputs": [
        {
          "output_type": "stream",
          "text": [
            "Anil  :  123466855\n",
            "%s does not exist\n"
          ],
          "name": "stdout"
        }
      ]
    },
    {
      "cell_type": "code",
      "metadata": {
        "id": "THmiLwsfOlvh",
        "colab_type": "code",
        "outputId": "eb9d4e48-0d87-45d4-f936-71ecd87bc75b",
        "colab": {
          "base_uri": "https://localhost:8080/",
          "height": 178
        }
      },
      "source": [
        "contacts\n",
        "contacts.count(1)"
      ],
      "execution_count": 32,
      "outputs": [
        {
          "output_type": "error",
          "ename": "AttributeError",
          "evalue": "ignored",
          "traceback": [
            "\u001b[0;31m---------------------------------------------------------------------------\u001b[0m",
            "\u001b[0;31mAttributeError\u001b[0m                            Traceback (most recent call last)",
            "\u001b[0;32m<ipython-input-32-853bdabd0152>\u001b[0m in \u001b[0;36m<module>\u001b[0;34m()\u001b[0m\n\u001b[1;32m      1\u001b[0m \u001b[0mcontacts\u001b[0m\u001b[0;34m\u001b[0m\u001b[0;34m\u001b[0m\u001b[0m\n\u001b[0;32m----> 2\u001b[0;31m \u001b[0mcontacts\u001b[0m\u001b[0;34m.\u001b[0m\u001b[0mcount\u001b[0m\u001b[0;34m(\u001b[0m\u001b[0;36m1\u001b[0m\u001b[0;34m)\u001b[0m\u001b[0;34m\u001b[0m\u001b[0;34m\u001b[0m\u001b[0m\n\u001b[0m",
            "\u001b[0;31mAttributeError\u001b[0m: 'dict' object has no attribute 'count'"
          ]
        }
      ]
    },
    {
      "cell_type": "code",
      "metadata": {
        "id": "eh6gVl-xKfGv",
        "colab_type": "code",
        "outputId": "e4d29362-0bc8-487e-8921-e79b600e351c",
        "colab": {
          "base_uri": "https://localhost:8080/",
          "height": 34
        }
      },
      "source": [
        "def importcontact(name):\n",
        "  contacts.update(name)\n",
        "  print(len(name.keys()),\"successful\")\n",
        "  return\n",
        "name={'Denesh':9988774455,'Ajay':666554488}\n",
        "importcontact(name)"
      ],
      "execution_count": 0,
      "outputs": [
        {
          "output_type": "stream",
          "text": [
            "2 successful\n"
          ],
          "name": "stdout"
        }
      ]
    },
    {
      "cell_type": "code",
      "metadata": {
        "id": "6MIgAr6FNt2x",
        "colab_type": "code",
        "outputId": "f60ed973-ae03-4b42-fb3e-2fa340751c0f",
        "colab": {
          "base_uri": "https://localhost:8080/",
          "height": 50
        }
      },
      "source": [
        "def delete(name):\n",
        "  if name in contacts:\n",
        "    del contacts[name]\n",
        "    print(\"deleted\")\n",
        "  else:\n",
        "    print(\"not found\")\n",
        "  return\n",
        "delete(\"Anil\")\n",
        "delete(\"Anil\")"
      ],
      "execution_count": 0,
      "outputs": [
        {
          "output_type": "stream",
          "text": [
            "not found\n",
            "not found\n"
          ],
          "name": "stdout"
        }
      ]
    },
    {
      "cell_type": "code",
      "metadata": {
        "id": "ay8pmF1mlxwt",
        "colab_type": "code",
        "colab": {
          "base_uri": "https://localhost:8080/",
          "height": 34
        },
        "outputId": "dc92a11c-37d7-4b28-cb4d-13707eb9626d"
      },
      "source": [
        "def update(name,phone):\n",
        "  if name in contacts:\n",
        "    contacts[name]=phone\n",
        "    print(name,\"updated\")\n",
        "  else:\n",
        "    print(\"Name does not exist\")\n",
        "  return\n",
        "update('zubin',9605917765)"
      ],
      "execution_count": 34,
      "outputs": [
        {
          "output_type": "stream",
          "text": [
            "zubin updated\n"
          ],
          "name": "stdout"
        }
      ]
    },
    {
      "cell_type": "code",
      "metadata": {
        "id": "KuAGWRH4m48M",
        "colab_type": "code",
        "colab": {
          "base_uri": "https://localhost:8080/",
          "height": 34
        },
        "outputId": "0c607db5-3063-4737-cdf1-df1c08d1ceee"
      },
      "source": [
        "li=[\"python\",\"programming\"]\n",
        "print(\"%s %s\" %(li[0],li[1]))"
      ],
      "execution_count": 35,
      "outputs": [
        {
          "output_type": "stream",
          "text": [
            "python programming\n"
          ],
          "name": "stdout"
        }
      ]
    },
    {
      "cell_type": "code",
      "metadata": {
        "id": "jdx1w8kzoNh4",
        "colab_type": "code",
        "colab": {
          "base_uri": "https://localhost:8080/",
          "height": 34
        },
        "outputId": "5d1e7251-4220-4c3d-a5a4-b413898b02a5"
      },
      "source": [
        "s1='Gitam'\n",
        "s1.upper()\n",
        "s1.lower()"
      ],
      "execution_count": 40,
      "outputs": [
        {
          "output_type": "execute_result",
          "data": {
            "text/plain": [
              "'gitam'"
            ]
          },
          "metadata": {
            "tags": []
          },
          "execution_count": 40
        }
      ]
    },
    {
      "cell_type": "code",
      "metadata": {
        "id": "iTkWVt6YpNI2",
        "colab_type": "code",
        "colab": {
          "base_uri": "https://localhost:8080/",
          "height": 50
        },
        "outputId": "e1f6b7f8-ae4d-4424-f45b-7fb6adeb585c"
      },
      "source": [
        "s2=\"python\"\n",
        "s3=\"python\"\n",
        "print(s2.istitle())\n",
        "print(s3.istitle())"
      ],
      "execution_count": 41,
      "outputs": [
        {
          "output_type": "stream",
          "text": [
            "False\n",
            "False\n"
          ],
          "name": "stdout"
        }
      ]
    },
    {
      "cell_type": "code",
      "metadata": {
        "id": "XG2kC9BSqWg5",
        "colab_type": "code",
        "colab": {
          "base_uri": "https://localhost:8080/",
          "height": 50
        },
        "outputId": "48a2122d-63ed-4cf0-a8df-3593a5a44ef5"
      },
      "source": [
        "s2=\"python\"\n",
        "print(s2.istitle())\n",
        "print(s2.isalpha())"
      ],
      "execution_count": 42,
      "outputs": [
        {
          "output_type": "stream",
          "text": [
            "False\n",
            "True\n"
          ],
          "name": "stdout"
        }
      ]
    },
    {
      "cell_type": "code",
      "metadata": {
        "id": "CWlfJf8atktM",
        "colab_type": "code",
        "colab": {
          "base_uri": "https://localhost:8080/",
          "height": 50
        },
        "outputId": "8129bee6-5bf0-4e8c-e235-7c068f65d9a3"
      },
      "source": [
        "s3=\" \"\n",
        "s4=\" alpha gamma \"\n",
        "print(s3.isspace())\n",
        "print(s4.isspace())"
      ],
      "execution_count": 43,
      "outputs": [
        {
          "output_type": "stream",
          "text": [
            "True\n",
            "False\n"
          ],
          "name": "stdout"
        }
      ]
    },
    {
      "cell_type": "code",
      "metadata": {
        "id": "6EFxSfYUvW1v",
        "colab_type": "code",
        "colab": {
          "base_uri": "https://localhost:8080/",
          "height": 34
        },
        "outputId": "c1c16330-e10a-469a-85a0-371b39d6d6a4"
      },
      "source": [
        "p1='python'\n",
        "print(\"@\".join(p1))"
      ],
      "execution_count": 44,
      "outputs": [
        {
          "output_type": "stream",
          "text": [
            "p@y@t@h@o@n\n"
          ],
          "name": "stdout"
        }
      ]
    },
    {
      "cell_type": "code",
      "metadata": {
        "id": "Pu44C2GhvqZJ",
        "colab_type": "code",
        "colab": {
          "base_uri": "https://localhost:8080/",
          "height": 118
        },
        "outputId": "d7fffe7f-6d02-4d1b-9760-fc2440d731c1"
      },
      "source": [
        "p1=\"python\"\n",
        "print(\"@\".join(p1))\n",
        "print(s1.split())\n",
        "a1=p1.split()\n",
        "print(a1)\n",
        "print(len(a1))\n",
        "print(s2.replace(\"yt\",\"zubin\"))\n",
        "print(s2)"
      ],
      "execution_count": 48,
      "outputs": [
        {
          "output_type": "stream",
          "text": [
            "p@y@t@h@o@n\n",
            "['python', 'programming', 'system']\n",
            "['python']\n",
            "1\n",
            "pzubinhon\n",
            "python\n"
          ],
          "name": "stdout"
        }
      ]
    },
    {
      "cell_type": "code",
      "metadata": {
        "id": "xIpxhl1QwLmZ",
        "colab_type": "code",
        "colab": {}
      },
      "source": [
        ""
      ],
      "execution_count": 0,
      "outputs": []
    }
  ]
}
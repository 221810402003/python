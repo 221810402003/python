{
  "nbformat": 4,
  "nbformat_minor": 0,
  "metadata": {
    "colab": {
      "name": "ASSIGNMENT",
      "version": "0.3.2",
      "provenance": [],
      "include_colab_link": true
    },
    "kernelspec": {
      "name": "python3",
      "display_name": "Python 3"
    }
  },
  "cells": [
    {
      "cell_type": "markdown",
      "metadata": {
        "id": "view-in-github",
        "colab_type": "text"
      },
      "source": [
        "<a href=\"https://colab.research.google.com/github/221810402003/python/blob/master/ASSIGNMENT.ipynb\" target=\"_parent\"><img src=\"https://colab.research.google.com/assets/colab-badge.svg\" alt=\"Open In Colab\"/></a>"
      ]
    },
    {
      "cell_type": "markdown",
      "metadata": {
        "id": "CkKjyAmQzqiV",
        "colab_type": "text"
      },
      "source": [
        "##LEAP YEAR\n"
      ]
    },
    {
      "cell_type": "code",
      "metadata": {
        "id": "cR253fnly8WX",
        "colab_type": "code",
        "colab": {
          "base_uri": "https://localhost:8080/",
          "height": 50
        },
        "outputId": "a4e661bb-e5df-4621-abf0-cd973d66d2fe"
      },
      "source": [
        "a=int(input(\"enter year\"))\n",
        "if a%4==0 :\n",
        "  print(\"leap year\")\n",
        "else: \n",
        "  print(\"not leap year\")"
      ],
      "execution_count": 2,
      "outputs": [
        {
          "output_type": "stream",
          "text": [
            "enter year2004\n",
            "leap year\n"
          ],
          "name": "stdout"
        }
      ]
    },
    {
      "cell_type": "markdown",
      "metadata": {
        "id": "TXgJAv7jz7Jp",
        "colab_type": "text"
      },
      "source": [
        "##WEEK DAYS\n"
      ]
    },
    {
      "cell_type": "code",
      "metadata": {
        "id": "93jbL2PN0Ane",
        "colab_type": "code",
        "colab": {
          "base_uri": "https://localhost:8080/",
          "height": 50
        },
        "outputId": "4e6033bd-be4f-4531-8439-cba5c5c65be2"
      },
      "source": [
        "n=int(input(\"enter a number(1-7)\"))\n",
        "if n==1 :\n",
        "  print(\"monday\")\n",
        "elif n==2 :\n",
        "  print(\"tuesday\")\n",
        "elif n==3 :\n",
        "  print(\"wednesday\")\n",
        "elif n==4 :\n",
        "  print(\"thursday\")\n",
        "elif n==5 :\n",
        "  print(\"friday\")\n",
        "elif n==6 :\n",
        "  print(\"saturday\")\n",
        "elif n==7 :\n",
        "  print(\"sunday\")\n",
        "else:\n",
        "  print(\"invalid\")"
      ],
      "execution_count": 5,
      "outputs": [
        {
          "output_type": "stream",
          "text": [
            "enter a number(1-7)5\n",
            "friday\n"
          ],
          "name": "stdout"
        }
      ]
    },
    {
      "cell_type": "markdown",
      "metadata": {
        "id": "fwhN55Qf1GkG",
        "colab_type": "text"
      },
      "source": [
        "##LARGEST OF THREE NUMBERS"
      ]
    },
    {
      "cell_type": "code",
      "metadata": {
        "id": "7t0Ay0lJ1MDe",
        "colab_type": "code",
        "colab": {
          "base_uri": "https://localhost:8080/",
          "height": 84
        },
        "outputId": "51d98dc9-a7dc-438a-df89-f17791a2bd65"
      },
      "source": [
        "a=int(input(\"enter\"))\n",
        "b=int(input(\"enter\"))\n",
        "c=int(input(\"enter\"))\n",
        "if a>b and a>c :\n",
        "  print(\"a\")\n",
        "elif b>a and b>c :\n",
        "  print(\"b\")\n",
        "else:\n",
        "  print(\"c1\")"
      ],
      "execution_count": 6,
      "outputs": [
        {
          "output_type": "stream",
          "text": [
            "enter1\n",
            "enter3\n",
            "enter5\n",
            "c\n"
          ],
          "name": "stdout"
        }
      ]
    },
    {
      "cell_type": "markdown",
      "metadata": {
        "id": "ZOMmKFTq1y9f",
        "colab_type": "text"
      },
      "source": [
        "##SUM OF SERIES"
      ]
    },
    {
      "cell_type": "code",
      "metadata": {
        "id": "OyaETZFc13ac",
        "colab_type": "code",
        "colab": {
          "base_uri": "https://localhost:8080/",
          "height": 50
        },
        "outputId": "dfdcfd79-f455-4339-f0fc-d01d9052e809"
      },
      "source": [
        "n=int(input(\"enter\"))\n",
        "s=0\n",
        "for i in range(n+1):\n",
        "  s=s+i\n",
        "print(s)  "
      ],
      "execution_count": 7,
      "outputs": [
        {
          "output_type": "stream",
          "text": [
            "enter5\n",
            "15\n"
          ],
          "name": "stdout"
        }
      ]
    },
    {
      "cell_type": "markdown",
      "metadata": {
        "id": "yUeU-PF02TDM",
        "colab_type": "text"
      },
      "source": [
        "##SUM OF ODD"
      ]
    },
    {
      "cell_type": "code",
      "metadata": {
        "id": "mXjhJmyi2W3Z",
        "colab_type": "code",
        "colab": {
          "base_uri": "https://localhost:8080/",
          "height": 50
        },
        "outputId": "bf487fca-b592-40fb-a394-1473867c6028"
      },
      "source": [
        "n=int(input(\"enter\"))\n",
        "s=0\n",
        "for i in range(n+1):\n",
        "  if i%2!=0 :\n",
        "    s=s+i\n",
        "print(s)  "
      ],
      "execution_count": 11,
      "outputs": [
        {
          "output_type": "stream",
          "text": [
            "enter3\n",
            "4\n"
          ],
          "name": "stdout"
        }
      ]
    },
    {
      "cell_type": "markdown",
      "metadata": {
        "id": "SNuhJuiU2_Tf",
        "colab_type": "text"
      },
      "source": [
        "##SUM AND AVERAGE"
      ]
    },
    {
      "cell_type": "code",
      "metadata": {
        "id": "8nEYWjal3FHK",
        "colab_type": "code",
        "colab": {
          "base_uri": "https://localhost:8080/",
          "height": 67
        },
        "outputId": "42ed630a-72cc-45d9-8d8e-bd46fc301068"
      },
      "source": [
        "n=int(input(\"enter\"))\n",
        "s=0\n",
        "for i in range(n+1):\n",
        "  s=s+i\n",
        "print(s)  \n",
        "avg=s//n\n",
        "print(avg)"
      ],
      "execution_count": 12,
      "outputs": [
        {
          "output_type": "stream",
          "text": [
            "enter5\n",
            "15\n",
            "3\n"
          ],
          "name": "stdout"
        }
      ]
    },
    {
      "cell_type": "markdown",
      "metadata": {
        "id": "yvJ7NKpu3WaI",
        "colab_type": "text"
      },
      "source": [
        "##QUADRATIC EQUATION"
      ]
    },
    {
      "cell_type": "code",
      "metadata": {
        "id": "7xLoXvvr3cam",
        "colab_type": "code",
        "colab": {
          "base_uri": "https://localhost:8080/",
          "height": 84
        },
        "outputId": "9c3c8e23-ce04-4544-ff24-afb6d598a340"
      },
      "source": [
        "a=float(input(\"enter\"))\n",
        "b=float(input(\"enter\"))\n",
        "c=float(input(\"enter\"))\n",
        "d=b*b-4*a*c\n",
        "if d>0 :\n",
        "  print(\"r1=\",-b+sqrt(d)/2*a)\n",
        "  print(\"r2=\",b+sqrt(d)/2*a)\n",
        "elif d==0 :\n",
        "  print(\"r1=r2=\",-b/2*a)\n",
        "else:\n",
        "  print(\"real part=\",-b/2*a)\n",
        "  print(\"imaginary=\",sqrt(-d)/2*a)"
      ],
      "execution_count": 13,
      "outputs": [
        {
          "output_type": "stream",
          "text": [
            "enter1\n",
            "enter2\n",
            "enter1\n",
            "r1=r2= -1.0\n"
          ],
          "name": "stdout"
        }
      ]
    },
    {
      "cell_type": "markdown",
      "metadata": {
        "id": "F2ksVUwX5ZZJ",
        "colab_type": "text"
      },
      "source": [
        "##DIVISOR"
      ]
    },
    {
      "cell_type": "code",
      "metadata": {
        "id": "A-0JmMfH5dG2",
        "colab_type": "code",
        "colab": {
          "base_uri": "https://localhost:8080/",
          "height": 101
        },
        "outputId": "59f7b95e-6357-46cc-8fc5-c35969011398"
      },
      "source": [
        "n=int(input(\"enter\"))\n",
        "for i in range(1,n+1):\n",
        "  if(n%i==0):\n",
        "    print(i)"
      ],
      "execution_count": 17,
      "outputs": [
        {
          "output_type": "stream",
          "text": [
            "enter6\n",
            "1\n",
            "2\n",
            "3\n",
            "6\n"
          ],
          "name": "stdout"
        }
      ]
    },
    {
      "cell_type": "markdown",
      "metadata": {
        "id": "C73JklWA6NIh",
        "colab_type": "text"
      },
      "source": [
        "##VALIDITY OF TRIANGLE"
      ]
    },
    {
      "cell_type": "code",
      "metadata": {
        "id": "CsFvOw4W6TDd",
        "colab_type": "code",
        "colab": {
          "base_uri": "https://localhost:8080/",
          "height": 84
        },
        "outputId": "fccf56cb-477e-4e14-d150-ae3e73fa4136"
      },
      "source": [
        "a=int(input(\"enter\"))\n",
        "b=int(input(\"enter\"))\n",
        "c=int(input(\"enter\"))\n",
        "if a+b<c and b+c<a and a+c<b :\n",
        "  print(\"its is a valid triangle\")\n",
        "else:\n",
        "  print(\"not a triangle\")\n",
        "  "
      ],
      "execution_count": 19,
      "outputs": [
        {
          "output_type": "stream",
          "text": [
            "enter1\n",
            "enter7\n",
            "enter5\n",
            "not a triangle\n"
          ],
          "name": "stdout"
        }
      ]
    },
    {
      "cell_type": "markdown",
      "metadata": {
        "id": "-hC3ALgS69Fb",
        "colab_type": "text"
      },
      "source": [
        "##CELSIUS TO FAHRENHEIT"
      ]
    },
    {
      "cell_type": "code",
      "metadata": {
        "id": "qdg5k6he7EB-",
        "colab_type": "code",
        "colab": {
          "base_uri": "https://localhost:8080/",
          "height": 50
        },
        "outputId": "779e17af-acdd-4779-fd9c-945eea6640d7"
      },
      "source": [
        "n=float(input(\"enter\"))\n",
        "f=1.8*n+32\n",
        "print(f)"
      ],
      "execution_count": 20,
      "outputs": [
        {
          "output_type": "stream",
          "text": [
            "enter0\n",
            "32.0\n"
          ],
          "name": "stdout"
        }
      ]
    }
  ]
}
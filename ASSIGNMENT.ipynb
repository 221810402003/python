{
  "nbformat": 4,
  "nbformat_minor": 0,
  "metadata": {
    "colab": {
      "name": "ASSIGNMENT",
      "version": "0.3.2",
      "provenance": [],
      "include_colab_link": true
    },
    "kernelspec": {
      "name": "python3",
      "display_name": "Python 3"
    }
  },
  "cells": [
    {
      "cell_type": "markdown",
      "metadata": {
        "id": "view-in-github",
        "colab_type": "text"
      },
      "source": [
        "<a href=\"https://colab.research.google.com/github/221810402003/python/blob/master/ASSIGNMENT.ipynb\" target=\"_parent\"><img src=\"https://colab.research.google.com/assets/colab-badge.svg\" alt=\"Open In Colab\"/></a>"
      ]
    },
    {
      "cell_type": "code",
      "metadata": {
        "id": "rr6MfwS7TL8c",
        "colab_type": "code",
        "outputId": "1c7bba15-76f7-46bd-919c-16e571bce49e",
        "colab": {
          "base_uri": "https://localhost:8080/",
          "height": 50
        }
      },
      "source": [
        "n=int(input(\"enter\"))\n",
        "for i in range(0,n):\n",
        "  a=3**i\n",
        "  print(a,end=\" \")"
      ],
      "execution_count": 0,
      "outputs": [
        {
          "output_type": "stream",
          "text": [
            "enter5\n",
            "1 3 9 27 81 "
          ],
          "name": "stdout"
        }
      ]
    },
    {
      "cell_type": "code",
      "metadata": {
        "id": "SQB9YDLfTmjW",
        "colab_type": "code",
        "outputId": "98c1eee3-37e8-4e62-dd48-5f4425151d8f",
        "colab": {
          "base_uri": "https://localhost:8080/",
          "height": 50
        }
      },
      "source": [
        "n=int(input(\"enter\"))\n",
        "sum=1\n",
        "for i in range(0,n):\n",
        "  sum=sum*2\n",
        "  print(sum,end=\" \")"
      ],
      "execution_count": 0,
      "outputs": [
        {
          "output_type": "stream",
          "text": [
            "enter9\n",
            "2 4 8 16 32 64 128 256 512 "
          ],
          "name": "stdout"
        }
      ]
    },
    {
      "cell_type": "code",
      "metadata": {
        "id": "t3kvNaMXWjxZ",
        "colab_type": "code",
        "outputId": "5510e63a-7c70-4ac7-db30-513a4afc4861",
        "colab": {
          "base_uri": "https://localhost:8080/",
          "height": 50
        }
      },
      "source": [
        "n=int(input(\"enter\"))\n",
        "a=1\n",
        "b=3\n",
        "c=4\n",
        "sum=0\n",
        "print(\"1 3 4\",end=\" \")\n",
        "for i in range(1,n+1):\n",
        "  sum=a+b+c\n",
        "  print(sum,end=\" \")\n",
        "  a=b\n",
        "  b=c\n",
        "  c=sum\n",
        "  "
      ],
      "execution_count": 0,
      "outputs": [
        {
          "output_type": "stream",
          "text": [
            "enter9\n",
            "1 3 4 8 15 27 50 92 169 311 572 1052 "
          ],
          "name": "stdout"
        }
      ]
    },
    {
      "cell_type": "code",
      "metadata": {
        "id": "Nv6eCzybaIGb",
        "colab_type": "code",
        "outputId": "3a4516fd-0236-46b7-cd54-7e87d24bc10a",
        "colab": {
          "base_uri": "https://localhost:8080/",
          "height": 50
        }
      },
      "source": [
        "n=int(input(\"enter\"))\n",
        "sum=2\n",
        "for i in range(0,n+1):\n",
        "  sum=sum+(i*13)\n",
        "  print(sum,end=\" \")"
      ],
      "execution_count": 0,
      "outputs": [
        {
          "output_type": "stream",
          "text": [
            "enter9\n",
            "2 15 41 80 132 197 275 366 470 587 "
          ],
          "name": "stdout"
        }
      ]
    },
    {
      "cell_type": "code",
      "metadata": {
        "id": "D54CAjpcbnXs",
        "colab_type": "code",
        "outputId": "c5cd4d46-a177-4da0-fb5b-775a2abf723d",
        "colab": {
          "base_uri": "https://localhost:8080/",
          "height": 50
        }
      },
      "source": [
        "n=int(input(\"enter\"))\n",
        "fact=1\n",
        "for i in range(2,n+1):\n",
        "  fact*=i\n",
        "  print(fact,end=\"+\")"
      ],
      "execution_count": 0,
      "outputs": [
        {
          "output_type": "stream",
          "text": [
            "enter9\n",
            "2+6+24+120+720+5040+40320+362880+"
          ],
          "name": "stdout"
        }
      ]
    },
    {
      "cell_type": "code",
      "metadata": {
        "id": "4fXJlEqtdlZL",
        "colab_type": "code",
        "outputId": "64a6356c-dcab-4a8b-977d-0e823cdcdb89",
        "colab": {
          "base_uri": "https://localhost:8080/",
          "height": 50
        }
      },
      "source": [
        "n=int(input(\"enter\"))\n",
        "a=1\n",
        "b=8\n",
        "print(\"1\",end=\" \")\n",
        "for i in range(1,n+1):\n",
        "  for j in range(0,2):\n",
        "    a=a+b\n",
        "    print(a,end=\" \")\n",
        "  b=b+8"
      ],
      "execution_count": 0,
      "outputs": [
        {
          "output_type": "stream",
          "text": [
            "enter9\n",
            "1 9 17 33 49 73 97 129 161 201 241 289 337 393 449 513 577 649 721 "
          ],
          "name": "stdout"
        }
      ]
    }
  ]
}
{
  "nbformat": 4,
  "nbformat_minor": 0,
  "metadata": {
    "colab": {
      "name": "5-07-2019",
      "version": "0.3.2",
      "provenance": [],
      "include_colab_link": true
    },
    "kernelspec": {
      "name": "python3",
      "display_name": "Python 3"
    }
  },
  "cells": [
    {
      "cell_type": "markdown",
      "metadata": {
        "id": "view-in-github",
        "colab_type": "text"
      },
      "source": [
        "<a href=\"https://colab.research.google.com/github/221810402003/python/blob/master/5_07_2019.ipynb\" target=\"_parent\"><img src=\"https://colab.research.google.com/assets/colab-badge.svg\" alt=\"Open In Colab\"/></a>"
      ]
    },
    {
      "cell_type": "markdown",
      "metadata": {
        "id": "g2udJbRt0Vze",
        "colab_type": "text"
      },
      "source": [
        "#Mark down basics\n",
        "##Mark down basics\n",
        "*hello*\n",
        "**hello**\n",
        "***hello***\n",
        "*normal\n",
        "*google site --[1]:http://www.google.com\n",
        "*msn site --[2]:htttp://www.msn.com\n"
      ]
    },
    {
      "cell_type": "markdown",
      "metadata": {
        "id": "LgpjMnDn3ZZ_",
        "colab_type": "text"
      },
      "source": [
        "###python basics\n",
        "-python version 3.7\n",
        "-functional program\n",
        "-object oriented programming\n",
        "-script programming\n"
      ]
    },
    {
      "cell_type": "code",
      "metadata": {
        "id": "rtJyeTio30_R",
        "colab_type": "code",
        "outputId": "e579ba16-cebe-471f-e038-e25834762729",
        "colab": {
          "base_uri": "https://localhost:8080/",
          "height": 50
        }
      },
      "source": [
        "print(\"Hello GITAM\")\n",
        "print(\"hyderbad\")"
      ],
      "execution_count": 0,
      "outputs": [
        {
          "output_type": "stream",
          "text": [
            "Hello GITAM\n",
            "hyderbad\n"
          ],
          "name": "stdout"
        }
      ]
    },
    {
      "cell_type": "code",
      "metadata": {
        "id": "P4q-CVzb4dv9",
        "colab_type": "code",
        "outputId": "7c0ab0a3-9d17-4ee2-83a8-4fa3c08af1e8",
        "colab": {
          "base_uri": "https://localhost:8080/",
          "height": 34
        }
      },
      "source": [
        "print(\"Hello GITAM\",\"|||\",end=\"  \")\n",
        "print(\"Hyderbad\")"
      ],
      "execution_count": 0,
      "outputs": [
        {
          "output_type": "stream",
          "text": [
            "Hello GITAM |||  Hyderbad\n"
          ],
          "name": "stdout"
        }
      ]
    },
    {
      "cell_type": "markdown",
      "metadata": {
        "id": "owW1uaai5nUb",
        "colab_type": "text"
      },
      "source": [
        "#Assignment\n"
      ]
    },
    {
      "cell_type": "code",
      "metadata": {
        "id": "nXHB6GxA5Ccz",
        "colab_type": "code",
        "outputId": "38e64d0b-8658-402c-caf3-e0a4f44c32d3",
        "colab": {
          "base_uri": "https://localhost:8080/",
          "height": 34
        }
      },
      "source": [
        "n1=100\n",
        "print(n1)"
      ],
      "execution_count": 0,
      "outputs": [
        {
          "output_type": "stream",
          "text": [
            "100\n"
          ],
          "name": "stdout"
        }
      ]
    },
    {
      "cell_type": "markdown",
      "metadata": {
        "id": "rQ5sT9hL7yW8",
        "colab_type": "text"
      },
      "source": [
        "**Data type and conversions**\n",
        "\n",
        "\n",
        "*   int\n",
        "*   float\n",
        "*   string\n",
        "\n",
        "\n"
      ]
    },
    {
      "cell_type": "code",
      "metadata": {
        "id": "__QQIwaY50Ds",
        "colab_type": "code",
        "outputId": "e1dc9dff-e05c-4a1b-e4ed-9f851f6929bf",
        "colab": {
          "base_uri": "https://localhost:8080/",
          "height": 151
        }
      },
      "source": [
        "a=100;\n",
        "s1=\"python\"\n",
        "s2=\"p\"\n",
        "f1=11.46;\n",
        "print(a)\n",
        "print(s1)\n",
        "print(s2)\n",
        "print(f1)\n",
        "print(type(a))\n",
        "print(type(s1))\n",
        "print(type(s2))\n",
        "print(type(f1))"
      ],
      "execution_count": 0,
      "outputs": [
        {
          "output_type": "stream",
          "text": [
            "100\n",
            "python\n",
            "p\n",
            "11.46\n",
            "<class 'int'>\n",
            "<class 'str'>\n",
            "<class 'str'>\n",
            "<class 'float'>\n"
          ],
          "name": "stdout"
        }
      ]
    },
    {
      "cell_type": "code",
      "metadata": {
        "id": "QoWbBsjESbI5",
        "colab_type": "code",
        "outputId": "9c4da751-a30e-4033-dbc3-4e4f1be5d86c",
        "colab": {
          "base_uri": "https://localhost:8080/",
          "height": 67
        }
      },
      "source": [
        "i=100\n",
        "print(type(i))\n",
        "s1=str(s1)\n",
        "print(type(s1))\n",
        "f1=float(i)\n",
        "print(type(f1))"
      ],
      "execution_count": 0,
      "outputs": [
        {
          "output_type": "stream",
          "text": [
            "<class 'int'>\n",
            "<class 'str'>\n",
            "<class 'float'>\n"
          ],
          "name": "stdout"
        }
      ]
    },
    {
      "cell_type": "code",
      "metadata": {
        "id": "Z7d02S2uTERE",
        "colab_type": "code",
        "outputId": "330dfa1d-5aab-4b5a-8bfa-ff85071462f4",
        "colab": {
          "base_uri": "https://localhost:8080/",
          "height": 101
        }
      },
      "source": [
        "s1=\"100\"\n",
        "print(type(s1))\n",
        "a=int(s1)\n",
        "print(type(a))\n",
        "f1=3.9\n",
        "print(type(f1))\n",
        "a2=int(f1)\n",
        "print(type(a2))\n",
        "print(a2)"
      ],
      "execution_count": 0,
      "outputs": [
        {
          "output_type": "stream",
          "text": [
            "<class 'str'>\n",
            "<class 'int'>\n",
            "<class 'float'>\n",
            "<class 'int'>\n",
            "3\n"
          ],
          "name": "stdout"
        }
      ]
    },
    {
      "cell_type": "code",
      "metadata": {
        "id": "TkbGzZ-aUI30",
        "colab_type": "code",
        "outputId": "fd28b23c-a51b-4ee9-8348-e7298c95b039",
        "colab": {
          "base_uri": "https://localhost:8080/",
          "height": 34
        }
      },
      "source": [
        "a1=1324\n",
        "print(len(str(a1)))"
      ],
      "execution_count": 0,
      "outputs": [
        {
          "output_type": "stream",
          "text": [
            "4\n"
          ],
          "name": "stdout"
        }
      ]
    },
    {
      "cell_type": "code",
      "metadata": {
        "id": "D3p2t7gbW5Vx",
        "colab_type": "code",
        "outputId": "e83f71ab-0827-461f-ced0-6c3b95ecead6",
        "colab": {
          "base_uri": "https://localhost:8080/",
          "height": 67
        }
      },
      "source": [
        "s1=input(\"enter your name\")\n",
        "print(s1)\n",
        "print(type(s1))"
      ],
      "execution_count": 0,
      "outputs": [
        {
          "output_type": "stream",
          "text": [
            "enter your namesushant\n",
            "sushant\n",
            "<class 'str'>\n"
          ],
          "name": "stdout"
        }
      ]
    },
    {
      "cell_type": "code",
      "metadata": {
        "id": "GYgM-dptYlvs",
        "colab_type": "code",
        "outputId": "a0fb631f-6f1a-4b6a-fe12-05ff262382e1",
        "colab": {
          "base_uri": "https://localhost:8080/",
          "height": 50
        }
      },
      "source": [
        "n1=(int(input(\"enter a number\")))\n",
        "print(n1,type(n1))"
      ],
      "execution_count": 0,
      "outputs": [
        {
          "output_type": "stream",
          "text": [
            "enter a number15910\n",
            "15910 <class 'int'>\n"
          ],
          "name": "stdout"
        }
      ]
    },
    {
      "cell_type": "code",
      "metadata": {
        "id": "twvQhXJIY9c8",
        "colab_type": "code",
        "outputId": "27cfd8d0-c4df-4757-a15a-7013a32c4343",
        "colab": {
          "base_uri": "https://localhost:8080/",
          "height": 34
        }
      },
      "source": [
        "print(9/6)\n"
      ],
      "execution_count": 0,
      "outputs": [
        {
          "output_type": "stream",
          "text": [
            "1.5\n"
          ],
          "name": "stdout"
        }
      ]
    },
    {
      "cell_type": "code",
      "metadata": {
        "id": "z3t3nIS5Z_Za",
        "colab_type": "code",
        "outputId": "450adc82-fcde-4534-d8c1-f7cfe80406d7",
        "colab": {
          "base_uri": "https://localhost:8080/",
          "height": 34
        }
      },
      "source": [
        "print(9**(9*9))\n"
      ],
      "execution_count": 0,
      "outputs": [
        {
          "output_type": "stream",
          "text": [
            "196627050475552913618075908526912116283103450944214766927315415537966391196809\n"
          ],
          "name": "stdout"
        }
      ]
    },
    {
      "cell_type": "code",
      "metadata": {
        "id": "Up8xGOMOaqat",
        "colab_type": "code",
        "outputId": "f7a2f38e-2833-4be5-f32a-97fd20edf847",
        "colab": {
          "base_uri": "https://localhost:8080/",
          "height": 134
        }
      },
      "source": [
        "a=10\n",
        "b=5\n",
        "print(a+b)\n",
        "print(a-b)\n",
        "print(a*b)\n",
        "print(a/b)\n",
        "print(a%b)\n",
        "print(a//b)\n",
        "print(a**b)"
      ],
      "execution_count": 0,
      "outputs": [
        {
          "output_type": "stream",
          "text": [
            "15\n",
            "5\n",
            "50\n",
            "2.0\n",
            "0\n",
            "2\n",
            "100000\n"
          ],
          "name": "stdout"
        }
      ]
    },
    {
      "cell_type": "code",
      "metadata": {
        "id": "ipqR-BjOdJAH",
        "colab_type": "code",
        "outputId": "93e9ea22-928e-4930-c837-fb7c94a84af5",
        "colab": {
          "base_uri": "https://localhost:8080/",
          "height": 34
        }
      },
      "source": [
        "x=1+2**3/4+5\n",
        "print(x)"
      ],
      "execution_count": 0,
      "outputs": [
        {
          "output_type": "stream",
          "text": [
            "8.0\n"
          ],
          "name": "stdout"
        }
      ]
    },
    {
      "cell_type": "code",
      "metadata": {
        "id": "b34SlkhJd5MJ",
        "colab_type": "code",
        "outputId": "2123b09e-e2a6-434b-9b16-4cc07e4e403c",
        "colab": {
          "base_uri": "https://localhost:8080/",
          "height": 34
        }
      },
      "source": [
        "x=1+2**3/4*5\n",
        "print(x)"
      ],
      "execution_count": 0,
      "outputs": [
        {
          "output_type": "stream",
          "text": [
            "11.0\n"
          ],
          "name": "stdout"
        }
      ]
    },
    {
      "cell_type": "code",
      "metadata": {
        "id": "EySmUONheLJI",
        "colab_type": "code",
        "colab": {
          "base_uri": "https://localhost:8080/",
          "height": 34
        },
        "outputId": "e3c555eb-bfd4-439b-f5d3-7b8fc0148f80"
      },
      "source": [
        "x=10\n",
        "a1=x>15\n",
        "print(a1)"
      ],
      "execution_count": 21,
      "outputs": [
        {
          "output_type": "stream",
          "text": [
            "False\n"
          ],
          "name": "stdout"
        }
      ]
    },
    {
      "cell_type": "code",
      "metadata": {
        "id": "HsL3q-QsjgMM",
        "colab_type": "code",
        "colab": {
          "base_uri": "https://localhost:8080/",
          "height": 50
        },
        "outputId": "8be947ac-d8bd-44c8-fbb5-82eb067b9119"
      },
      "source": [
        "i=100\n",
        "a1=(i>15)and(i<800)\n",
        "a2=(i>15)and(i>800)\n",
        "print(a1)\n",
        "print(a2)"
      ],
      "execution_count": 23,
      "outputs": [
        {
          "output_type": "stream",
          "text": [
            "True\n",
            "False\n"
          ],
          "name": "stdout"
        }
      ]
    },
    {
      "cell_type": "code",
      "metadata": {
        "id": "-ZtVvkJzkrTq",
        "colab_type": "code",
        "colab": {
          "base_uri": "https://localhost:8080/",
          "height": 50
        },
        "outputId": "7d8a4db6-e7a7-42c8-d870-efe972208831"
      },
      "source": [
        "n=int(input(\"enter a value\"))\n",
        "if(n%2==0):\n",
        "  print(\"even\")\n",
        "else:\n",
        "  print(\"odd\")"
      ],
      "execution_count": 24,
      "outputs": [
        {
          "output_type": "stream",
          "text": [
            "enter a value12485548\n",
            "even\n"
          ],
          "name": "stdout"
        }
      ]
    },
    {
      "cell_type": "code",
      "metadata": {
        "id": "iV0THIFnkrGz",
        "colab_type": "code",
        "colab": {
          "base_uri": "https://localhost:8080/",
          "height": 50
        },
        "outputId": "e7bb2713-b93c-4fa2-9d48-678b170cacfc"
      },
      "source": [
        "n=(int(input(\"enter\")))\n",
        "if(n%2==0 and n%3==0):\n",
        "  print(\"multiple of 2 and 3\")\n",
        "else:\n",
        "  print(\"invalid\")"
      ],
      "execution_count": 27,
      "outputs": [
        {
          "output_type": "stream",
          "text": [
            "enter5\n",
            "invalid\n"
          ],
          "name": "stdout"
        }
      ]
    },
    {
      "cell_type": "code",
      "metadata": {
        "id": "sCVvpCwToxMl",
        "colab_type": "code",
        "colab": {
          "base_uri": "https://localhost:8080/",
          "height": 50
        },
        "outputId": "be7b9a43-eb89-4ae3-fef0-3ff2be2fbc3d"
      },
      "source": [
        "n=(int(input(\"enter\")))\n",
        "if n==0 :\n",
        "  print(\"zero\")\n",
        "elif n>0 :\n",
        "    print(\"positive\")\n",
        "else:\n",
        "      print(\"negative\")"
      ],
      "execution_count": 31,
      "outputs": [
        {
          "output_type": "stream",
          "text": [
            "enter3\n",
            "positive\n"
          ],
          "name": "stdout"
        }
      ]
    },
    {
      "cell_type": "code",
      "metadata": {
        "id": "PfYPG4HLpYAm",
        "colab_type": "code",
        "colab": {}
      },
      "source": [
        ""
      ],
      "execution_count": 0,
      "outputs": []
    }
  ]
}
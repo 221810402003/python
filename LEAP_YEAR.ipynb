{
  "nbformat": 4,
  "nbformat_minor": 0,
  "metadata": {
    "colab": {
      "name": "LEAP YEAR",
      "version": "0.3.2",
      "provenance": [],
      "include_colab_link": true
    },
    "kernelspec": {
      "name": "python3",
      "display_name": "Python 3"
    }
  },
  "cells": [
    {
      "cell_type": "markdown",
      "metadata": {
        "id": "view-in-github",
        "colab_type": "text"
      },
      "source": [
        "<a href=\"https://colab.research.google.com/github/221810402003/python/blob/master/LEAP_YEAR.ipynb\" target=\"_parent\"><img src=\"https://colab.research.google.com/assets/colab-badge.svg\" alt=\"Open In Colab\"/></a>"
      ]
    },
    {
      "cell_type": "markdown",
      "metadata": {
        "id": "CkKjyAmQzqiV",
        "colab_type": "text"
      },
      "source": [
        "##LEAP YEAR\n"
      ]
    },
    {
      "cell_type": "code",
      "metadata": {
        "id": "cR253fnly8WX",
        "colab_type": "code",
        "colab": {
          "base_uri": "https://localhost:8080/",
          "height": 50
        },
        "outputId": "a4e661bb-e5df-4621-abf0-cd973d66d2fe"
      },
      "source": [
        "a=int(input(\"enter year\"))\n",
        "if a%4==0 :\n",
        "  print(\"leap year\")\n",
        "else: \n",
        "  print(\"not leap year\")"
      ],
      "execution_count": 2,
      "outputs": [
        {
          "output_type": "stream",
          "text": [
            "enter year2004\n",
            "leap year\n"
          ],
          "name": "stdout"
        }
      ]
    }
  ]
}
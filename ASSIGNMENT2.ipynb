{
  "nbformat": 4,
  "nbformat_minor": 0,
  "metadata": {
    "colab": {
      "name": "ASSIGNMENT2",
      "version": "0.3.2",
      "provenance": [],
      "include_colab_link": true
    },
    "kernelspec": {
      "name": "python3",
      "display_name": "Python 3"
    }
  },
  "cells": [
    {
      "cell_type": "markdown",
      "metadata": {
        "id": "view-in-github",
        "colab_type": "text"
      },
      "source": [
        "<a href=\"https://colab.research.google.com/github/221810402003/python/blob/master/ASSIGNMENT2.ipynb\" target=\"_parent\"><img src=\"https://colab.research.google.com/assets/colab-badge.svg\" alt=\"Open In Colab\"/></a>"
      ]
    },
    {
      "cell_type": "code",
      "metadata": {
        "id": "NB9tLayQL-I4",
        "colab_type": "code",
        "outputId": "cffeac8b-b845-484d-e8c4-0fe5c157deaa",
        "colab": {
          "base_uri": "https://localhost:8080/",
          "height": 118
        }
      },
      "source": [
        "def o(n):\n",
        "    for i in range (len(n)):\n",
        "        n[i]=int(n[i])\n",
        "    for i in range (len(n)):\n",
        "      print(\"|\",end=\"\")\n",
        "      for j in range (n[i]):\n",
        "        print(\"*\",end=\"\")\n",
        "      print(\"\")\n",
        "    return\n",
        "x=input(\"enter num\")\n",
        "o(list(x))"
      ],
      "execution_count": 0,
      "outputs": [
        {
          "output_type": "stream",
          "text": [
            "enter num41325\n",
            "|****\n",
            "|*\n",
            "|***\n",
            "|**\n",
            "|*****\n"
          ],
          "name": "stdout"
        }
      ]
    },
    {
      "cell_type": "code",
      "metadata": {
        "id": "2NWO-56uMO6e",
        "colab_type": "code",
        "outputId": "b3043f44-f655-41d7-8570-9e90f98734ee",
        "colab": {
          "base_uri": "https://localhost:8080/",
          "height": 34
        }
      },
      "source": [
        "a=\"hebeonTech,e\"\n",
        "print(a.replace(\"e\",\"\"))\n"
      ],
      "execution_count": 0,
      "outputs": [
        {
          "output_type": "stream",
          "text": [
            "hbonTch,\n"
          ],
          "name": "stdout"
        }
      ]
    },
    {
      "cell_type": "code",
      "metadata": {
        "id": "AsTUlHKkeGN6",
        "colab_type": "code",
        "outputId": "99875a69-9524-4537-9c7a-097b432aae38",
        "colab": {
          "base_uri": "https://localhost:8080/",
          "height": 50
        }
      },
      "source": [
        "def findNthTerm(n):  \n",
        "    if n % 2 == 0: \n",
        "        n //= 2\n",
        "        print(3 ** (n - 1))  \n",
        "    else: \n",
        "        n = (n // 2) + 1\n",
        "        print(2 ** (n - 1)) \n",
        "if __name__=='__main__': \n",
        "    N = 3\n",
        "    findNthTerm(N) \n",
        "  \n",
        "    N = 11\n",
        "    findNthTerm(N) "
      ],
      "execution_count": 0,
      "outputs": [
        {
          "output_type": "stream",
          "text": [
            "2\n",
            "32\n"
          ],
          "name": "stdout"
        }
      ]
    },
    {
      "cell_type": "code",
      "metadata": {
        "id": "Wl-EOCgQeyF_",
        "colab_type": "code",
        "outputId": "1e78e9c9-4394-40a1-ade2-fae1b6a810ba",
        "colab": {
          "base_uri": "https://localhost:8080/",
          "height": 34
        }
      },
      "source": [
        "n='Good Morning'\n",
        "a=n.split()\n",
        "if(len(a[0])<len(a[1])):\n",
        "  print(a[1])\n",
        "else:\n",
        "  print(a[0])"
      ],
      "execution_count": 0,
      "outputs": [
        {
          "output_type": "stream",
          "text": [
            "Morning\n"
          ],
          "name": "stdout"
        }
      ]
    },
    {
      "cell_type": "code",
      "metadata": {
        "id": "Y5NpHLUlr9aS",
        "colab_type": "code",
        "outputId": "f7d48cd8-cd28-47ed-e3ab-a7360c436e40",
        "colab": {
          "base_uri": "https://localhost:8080/",
          "height": 34
        }
      },
      "source": [
        "n='application test'\n",
        "a=n.split()\n",
        "print(a[1])"
      ],
      "execution_count": 0,
      "outputs": [
        {
          "output_type": "stream",
          "text": [
            "test\n"
          ],
          "name": "stdout"
        }
      ]
    },
    {
      "cell_type": "code",
      "metadata": {
        "id": "lU38APNjsWqg",
        "colab_type": "code",
        "outputId": "88e0f29e-b6e0-49d6-8d76-e5af2f50a3ff",
        "colab": {
          "base_uri": "https://localhost:8080/",
          "height": 50
        }
      },
      "source": [
        "def Q1(x):\n",
        "  while x-2!=0:\n",
        "    a=0\n",
        "    b=1\n",
        "    c=0\n",
        "    for i in range(x-2):\n",
        "      c= a+b\n",
        "      a=b\n",
        "      b=c\n",
        "    print(c,end=\" \")\n",
        "    x-=1\n",
        "  print('1 0')\n",
        "  return\n",
        "Q1(int(input(\"enter number\")))"
      ],
      "execution_count": 7,
      "outputs": [
        {
          "output_type": "stream",
          "text": [
            "enter number5\n",
            "3 2 1 1 0\n"
          ],
          "name": "stdout"
        }
      ]
    },
    {
      "cell_type": "code",
      "metadata": {
        "id": "1-qJcEcMHuFa",
        "colab_type": "code",
        "colab": {
          "base_uri": "https://localhost:8080/",
          "height": 34
        },
        "outputId": "f6cd441f-66cf-485d-d626-d2e89429e0c4"
      },
      "source": [
        "li=[\"a\",\"b\",\"c\",\"x\",\"y\",\"z\"]\n",
        "print(\"%s%s%s%s%s%s\"%(li[0],li[3],li[1],li[4],li[2],li[5]))\n",
        "\n"
      ],
      "execution_count": 1,
      "outputs": [
        {
          "output_type": "stream",
          "text": [
            "axbycz\n"
          ],
          "name": "stdout"
        }
      ]
    },
    {
      "cell_type": "code",
      "metadata": {
        "id": "VHpTBMojHvJJ",
        "colab_type": "code",
        "colab": {
          "base_uri": "https://localhost:8080/",
          "height": 134
        },
        "outputId": "b82fd889-5e78-41b4-edd9-a519d4f91048"
      },
      "source": [
        "def Q2(n):\n",
        "  a=[]\n",
        "  s=0\n",
        "  for i in range(n):\n",
        "    a.append(int(input()))\n",
        "  for i in range(n):\n",
        "    c=0\n",
        "    for j in range(n):\n",
        "      if i!=j:\n",
        "        if a[i]==a[j]:\n",
        "          c+=1\n",
        "    if c==0:\n",
        "      s=s+a[i]\n",
        "  return s\n",
        "Q2(int(input(\"no of values\")))"
      ],
      "execution_count": 10,
      "outputs": [
        {
          "output_type": "stream",
          "text": [
            "no of values5\n",
            "22\n",
            "66\n",
            "55\n",
            "22\n",
            "99\n"
          ],
          "name": "stdout"
        },
        {
          "output_type": "execute_result",
          "data": {
            "text/plain": [
              "220"
            ]
          },
          "metadata": {
            "tags": []
          },
          "execution_count": 10
        }
      ]
    },
    {
      "cell_type": "code",
      "metadata": {
        "id": "JSepkmlQJqRk",
        "colab_type": "code",
        "colab": {
          "base_uri": "https://localhost:8080/",
          "height": 118
        },
        "outputId": "dc189546-b758-43d3-e358-c8d4210b2cff"
      },
      "source": [
        "def Q3(a,b):\n",
        "  if len(a)<=len(b):\n",
        "    n=len(a)\n",
        "    k=len(b)\n",
        "  else:\n",
        "    n=len(b)\n",
        "    k=len(a)\n",
        "  for i in range(n):\n",
        "    print(a[i],b[i])\n",
        "  for j in range(n,k):\n",
        "    if(len(a)<=len(b)):\n",
        "      print(b[j],'*')\n",
        "    else:\n",
        "      print(a[j],'*')\n",
        "  return\n",
        "x=str(input(\"enter str:\"))\n",
        "x=x.split()\n",
        "Q3(x[0],x[1])"
      ],
      "execution_count": 11,
      "outputs": [
        {
          "output_type": "stream",
          "text": [
            "enter str:bad water\n",
            "b w\n",
            "a a\n",
            "d t\n",
            "e *\n",
            "r *\n"
          ],
          "name": "stdout"
        }
      ]
    }
  ]
}
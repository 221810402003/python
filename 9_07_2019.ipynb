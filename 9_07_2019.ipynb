{
  "nbformat": 4,
  "nbformat_minor": 0,
  "metadata": {
    "colab": {
      "name": "9-07-2019",
      "version": "0.3.2",
      "provenance": [],
      "collapsed_sections": [],
      "include_colab_link": true
    },
    "kernelspec": {
      "name": "python3",
      "display_name": "Python 3"
    }
  },
  "cells": [
    {
      "cell_type": "markdown",
      "metadata": {
        "id": "view-in-github",
        "colab_type": "text"
      },
      "source": [
        "<a href=\"https://colab.research.google.com/github/221810402003/python/blob/master/9_07_2019.ipynb\" target=\"_parent\"><img src=\"https://colab.research.google.com/assets/colab-badge.svg\" alt=\"Open In Colab\"/></a>"
      ]
    },
    {
      "cell_type": "code",
      "metadata": {
        "id": "sWoOtXt717U6",
        "colab_type": "code",
        "outputId": "8b96a889-0944-4138-982a-1f9dfc8b7597",
        "colab": {
          "base_uri": "https://localhost:8080/",
          "height": 134
        }
      },
      "source": [
        "lst=[1,8,5,4,7]\n",
        "print(lst)\n",
        "print(lst[0])\n",
        "print(lst[1])\n",
        "print(lst[-1])\n",
        "print(lst[-2])\n",
        "print(lst[1:])\n",
        "print(lst[1:4])"
      ],
      "execution_count": 0,
      "outputs": [
        {
          "output_type": "stream",
          "text": [
            "[1, 8, 5, 4, 7]\n",
            "1\n",
            "8\n",
            "7\n",
            "4\n",
            "[8, 5, 4, 7]\n",
            "[8, 5, 4]\n"
          ],
          "name": "stdout"
        }
      ]
    },
    {
      "cell_type": "code",
      "metadata": {
        "id": "owxKuMUK50dv",
        "colab_type": "code",
        "outputId": "620b909e-229a-412b-d7d0-ea3e2e8d4be6",
        "colab": {
          "base_uri": "https://localhost:8080/",
          "height": 50
        }
      },
      "source": [
        "li=[\"GITAM\",\"Python\",1989,2001]\n",
        "print(li)\n",
        "li[2]=2019\n",
        "print(li)"
      ],
      "execution_count": 0,
      "outputs": [
        {
          "output_type": "stream",
          "text": [
            "['GITAM', 'Python', 1989, 2001]\n",
            "['GITAM', 'Python', 2019, 2001]\n"
          ],
          "name": "stdout"
        }
      ]
    },
    {
      "cell_type": "code",
      "metadata": {
        "id": "W9I79QgA6u2J",
        "colab_type": "code",
        "outputId": "1a8e50de-3b06-429f-b21f-fd4c478c0b04",
        "colab": {
          "base_uri": "https://localhost:8080/",
          "height": 50
        }
      },
      "source": [
        "print(li)\n",
        "del li[2]\n",
        "print(li)"
      ],
      "execution_count": 0,
      "outputs": [
        {
          "output_type": "stream",
          "text": [
            "['GITAM', 'Python', 2019, 2001]\n",
            "['GITAM', 'Python', 2001]\n"
          ],
          "name": "stdout"
        }
      ]
    },
    {
      "cell_type": "code",
      "metadata": {
        "id": "N89hHs7m62eN",
        "colab_type": "code",
        "outputId": "fa36271b-c5eb-476f-a994-b7c1ab80eec9",
        "colab": {
          "base_uri": "https://localhost:8080/",
          "height": 50
        }
      },
      "source": [
        "print(li)\n",
        "del li[2]\n",
        "print(li)"
      ],
      "execution_count": 0,
      "outputs": [
        {
          "output_type": "stream",
          "text": [
            "['GITAM', 'Python', 2001]\n",
            "['GITAM', 'Python']\n"
          ],
          "name": "stdout"
        }
      ]
    },
    {
      "cell_type": "code",
      "metadata": {
        "id": "CH-o5jwF7v2x",
        "colab_type": "code",
        "outputId": "9bfdf657-03d8-4962-f971-71ff10a48a83",
        "colab": {
          "base_uri": "https://localhost:8080/",
          "height": 118
        }
      },
      "source": [
        "lst1=[1,9,6,18,2]\n",
        "print(len(lst1))\n",
        "print(lst1*2)\n",
        "print(len(lst1))\n",
        "print(9 in lst1)\n",
        "print(15 in lst1)\n",
        "for x in range(len(lst1)):\n",
        "  print(lst1[x],end=' ')"
      ],
      "execution_count": 0,
      "outputs": [
        {
          "output_type": "stream",
          "text": [
            "5\n",
            "[1, 9, 6, 18, 2, 1, 9, 6, 18, 2]\n",
            "5\n",
            "True\n",
            "False\n",
            "1 9 6 18 2 "
          ],
          "name": "stdout"
        }
      ]
    },
    {
      "cell_type": "code",
      "metadata": {
        "id": "igLnokQx9BlH",
        "colab_type": "code",
        "outputId": "6d85df8a-20c9-44ae-9ea4-060919f41eb2",
        "colab": {
          "base_uri": "https://localhost:8080/",
          "height": 118
        }
      },
      "source": [
        "lst1\n",
        "print(min(lst1))\n",
        "print(max(lst1))\n",
        "print(sum(lst1))\n",
        "print(sum(lst1)/len(lst1))\n",
        "print(sum(lst1)//len(lst1))\n",
        "print(sum(lst1[1::2])/len(lst1[1::2]))"
      ],
      "execution_count": 0,
      "outputs": [
        {
          "output_type": "stream",
          "text": [
            "1\n",
            "18\n",
            "36\n",
            "7.2\n",
            "7\n",
            "13.5\n"
          ],
          "name": "stdout"
        }
      ]
    },
    {
      "cell_type": "code",
      "metadata": {
        "id": "eUoqxc86_Lhl",
        "colab_type": "code",
        "outputId": "d30498bc-d1dc-4a53-fd03-3ee267f317ec",
        "colab": {
          "base_uri": "https://localhost:8080/",
          "height": 638
        }
      },
      "source": [
        "lst1\n",
        "lst1.append(24)\n",
        "lst1\n",
        "lst1.insert(2,56)\n",
        "lst1\n",
        "lst1.count(18)\n",
        "lst1.index(56)\n",
        "lst1.sort()\n",
        "lst1\n",
        "lst1.pop()\n",
        "lst1\n",
        "lst1.pop(1)\n",
        "lst2=[123,23,45]\n",
        "lst1.extend(lst2)\n",
        "lst1\n",
        "lst1.reverse()\n",
        "lst1"
      ],
      "execution_count": 29,
      "outputs": [
        {
          "output_type": "execute_result",
          "data": {
            "text/plain": [
              "[45,\n",
              " 23,\n",
              " 123,\n",
              " 56,\n",
              " 56,\n",
              " 56,\n",
              " 56,\n",
              " 56,\n",
              " 56,\n",
              " 56,\n",
              " 56,\n",
              " 56,\n",
              " 56,\n",
              " 45,\n",
              " 45,\n",
              " 45,\n",
              " 45,\n",
              " 45,\n",
              " 45,\n",
              " 45,\n",
              " 24,\n",
              " 24,\n",
              " 24,\n",
              " 24,\n",
              " 24,\n",
              " 24,\n",
              " 24,\n",
              " 24,\n",
              " 24,\n",
              " 24,\n",
              " 24,\n",
              " 24,\n",
              " 24,\n",
              " 23,\n",
              " 23,\n",
              " 23,\n",
              " 1]"
            ]
          },
          "metadata": {
            "tags": []
          },
          "execution_count": 29
        }
      ]
    },
    {
      "cell_type": "code",
      "metadata": {
        "id": "v92LLN9ADIv_",
        "colab_type": "code",
        "colab": {
          "base_uri": "https://localhost:8080/",
          "height": 34
        },
        "outputId": "f2a5121f-58ec-4053-914b-77d6e4c8abda"
      },
      "source": [
        "def secondlarge(li):\n",
        "  li.sort()\n",
        "  return li[-2]\n",
        "def genericlarge(li,n):\n",
        "  li.sort()\n",
        "  return li[-n]\n",
        "li=[1,19,6,2,8,18,3]\n",
        "genericlarge(li,4)"
      ],
      "execution_count": 33,
      "outputs": [
        {
          "output_type": "execute_result",
          "data": {
            "text/plain": [
              "6"
            ]
          },
          "metadata": {
            "tags": []
          },
          "execution_count": 33
        }
      ]
    },
    {
      "cell_type": "code",
      "metadata": {
        "id": "SzVKup8MJm2p",
        "colab_type": "code",
        "colab": {
          "base_uri": "https://localhost:8080/",
          "height": 34
        },
        "outputId": "95c246f0-4cf5-4cda-86d6-d05d4ee411b7"
      },
      "source": [
        "def secondleast(li):\n",
        "  li.sort()\n",
        "  return li[1]\n",
        "def generic(li,n):\n",
        "  li.sort()\n",
        "  return li[n-1]\n",
        "li=[1,19,6,2,8,18,3]\n",
        "generic(li,4)"
      ],
      "execution_count": 35,
      "outputs": [
        {
          "output_type": "execute_result",
          "data": {
            "text/plain": [
              "6"
            ]
          },
          "metadata": {
            "tags": []
          },
          "execution_count": 35
        }
      ]
    },
    {
      "cell_type": "code",
      "metadata": {
        "id": "6EpKtp3lMNrX",
        "colab_type": "code",
        "colab": {
          "base_uri": "https://localhost:8080/",
          "height": 34
        },
        "outputId": "e33e3de1-afd3-4cd2-8eaa-ffa89253ee33"
      },
      "source": [
        "def linear(ab,cd):\n",
        "  for x in range(len(ab)):\n",
        "    if ab[x]==cd:\n",
        "      return x\n",
        "  return -1\n",
        "ab=[1,19,6,2,8,18,3]\n",
        "linear(ab,34)"
      ],
      "execution_count": 37,
      "outputs": [
        {
          "output_type": "execute_result",
          "data": {
            "text/plain": [
              "-1"
            ]
          },
          "metadata": {
            "tags": []
          },
          "execution_count": 37
        }
      ]
    },
    {
      "cell_type": "code",
      "metadata": {
        "id": "Yp-Fbb3-ZGB5",
        "colab_type": "code",
        "colab": {
          "base_uri": "https://localhost:8080/",
          "height": 34
        },
        "outputId": "9157190d-e23c-4733-926e-03a1c21b2ae6"
      },
      "source": [
        "def linear2(a,b):\n",
        "  for x in range(len(a)):\n",
        "    if a[x]==b:\n",
        "      print(x,end=\" \")\n",
        "  return\n",
        "a=[1,5,9,6,5,15,1,2,5]\n",
        "linear2(a,5)"
      ],
      "execution_count": 38,
      "outputs": [
        {
          "output_type": "stream",
          "text": [
            "1 4 8 "
          ],
          "name": "stdout"
        }
      ]
    },
    {
      "cell_type": "code",
      "metadata": {
        "id": "f9JKOQ38c9in",
        "colab_type": "code",
        "colab": {
          "base_uri": "https://localhost:8080/",
          "height": 34
        },
        "outputId": "153b98fc-0130-4a6b-b4e2-428805d54bc1"
      },
      "source": [
        "def linear(a,b):\n",
        "  for x in range(len(a)):\n",
        "    if a[x]==b:\n",
        "      j=0\n",
        "      while j!=x+1:\n",
        "        print(\"!\",end=\"\")\n",
        "        j=j+1\n",
        "      print(end=\" \")\n",
        "  return\n",
        "a=[1,5,9,6,5,15]\n",
        "linear(a,5)    "
      ],
      "execution_count": 39,
      "outputs": [
        {
          "output_type": "stream",
          "text": [
            "!! !!!!! "
          ],
          "name": "stdout"
        }
      ]
    },
    {
      "cell_type": "code",
      "metadata": {
        "id": "QIL0cEikg5Dc",
        "colab_type": "code",
        "colab": {
          "base_uri": "https://localhost:8080/",
          "height": 34
        },
        "outputId": "68d062c6-7042-47ed-a0d6-4170fb467c57"
      },
      "source": [
        "def perfect(a):\n",
        "  sum=0\n",
        "  for x in range(len(a)):\n",
        "    if a[x]%5==0 and a[x]%3==0:\n",
        "      sum=sum+a[x]\n",
        "  return sum\n",
        "a=[12,2,45,9,18,15,36]\n",
        "perfect(a)\n",
        "      "
      ],
      "execution_count": 46,
      "outputs": [
        {
          "output_type": "execute_result",
          "data": {
            "text/plain": [
              "60"
            ]
          },
          "metadata": {
            "tags": []
          },
          "execution_count": 46
        }
      ]
    },
    {
      "cell_type": "code",
      "metadata": {
        "id": "wkKsrtsAixrg",
        "colab_type": "code",
        "colab": {
          "base_uri": "https://localhost:8080/",
          "height": 34
        },
        "outputId": "8b9536b1-a54b-47bf-ea00-e78430bedee9"
      },
      "source": [
        "def search8(a):\n",
        "  for x in range(len(a)):\n",
        "    if x==0 or x==len(a)-1:\n",
        "      print(a[x],end=\" \")\n",
        "    else:\n",
        "      print(a[x-1]*a[x+1],end=\" \")\n",
        "  return\n",
        "a=[1,2,3,4,5,6]\n",
        "search8(a)"
      ],
      "execution_count": 50,
      "outputs": [
        {
          "output_type": "stream",
          "text": [
            "1 3 8 15 24 6 "
          ],
          "name": "stdout"
        }
      ]
    },
    {
      "cell_type": "code",
      "metadata": {
        "id": "J3rmljJe4r_6",
        "colab_type": "code",
        "colab": {
          "base_uri": "https://localhost:8080/",
          "height": 34
        },
        "outputId": "c04ccec4-2ead-4d4b-91ff-e4efda183255"
      },
      "source": [
        "def hello(a):\n",
        "  for x in range(len(a)):\n",
        "    if x==0 or x==len(a)-1:\n",
        "      print(a[x],end=\" \")\n",
        "    elif a[x-1]%2==0 and a[x+1]%2==0:\n",
        "      print(a[x],end=\" \")\n",
        "  return\n",
        "a=[1,6,9,4,16,19,22]\n",
        "hello(a)\n",
        "      "
      ],
      "execution_count": 51,
      "outputs": [
        {
          "output_type": "stream",
          "text": [
            "1 9 19 22 "
          ],
          "name": "stdout"
        }
      ]
    },
    {
      "cell_type": "code",
      "metadata": {
        "id": "wNHYgfyD98So",
        "colab_type": "code",
        "colab": {
          "base_uri": "https://localhost:8080/",
          "height": 34
        },
        "outputId": "7c2147ea-4c05-49c6-f894-c9a13a0302ee"
      },
      "source": [
        "def list(a):\n",
        "  b=[]\n",
        "  while a!=0:\n",
        "    r=a%10\n",
        "    b.append(r)\n",
        "    a=a//10\n",
        "  b.reverse()\n",
        "  return b\n",
        "list(12345)"
      ],
      "execution_count": 57,
      "outputs": [
        {
          "output_type": "execute_result",
          "data": {
            "text/plain": [
              "[1, 2, 3, 4, 5]"
            ]
          },
          "metadata": {
            "tags": []
          },
          "execution_count": 57
        }
      ]
    },
    {
      "cell_type": "code",
      "metadata": {
        "id": "bJ-tW08TBMCV",
        "colab_type": "code",
        "colab": {
          "base_uri": "https://localhost:8080/",
          "height": 34
        },
        "outputId": "3aff706d-1b01-47af-fbbb-1be1f10189a5"
      },
      "source": [
        "def count(a,c):\n",
        "  cnt=0\n",
        "  for x in a:\n",
        "    if x==c:\n",
        "      cnt=cnt+1\n",
        "  return cnt\n",
        "count(\"Python Programming\",'m')"
      ],
      "execution_count": 62,
      "outputs": [
        {
          "output_type": "execute_result",
          "data": {
            "text/plain": [
              "2"
            ]
          },
          "metadata": {
            "tags": []
          },
          "execution_count": 62
        }
      ]
    },
    {
      "cell_type": "code",
      "metadata": {
        "id": "Y5zYpaE9EqMC",
        "colab_type": "code",
        "colab": {
          "base_uri": "https://localhost:8080/",
          "height": 34
        },
        "outputId": "dfda1abf-799b-46a5-98f6-c85ca416b837"
      },
      "source": [
        "def string(s):\n",
        "  li=s.split()\n",
        "  numberlist=[]\n",
        "  for i in li:\n",
        "    numberlist.append(int(i))\n",
        "  return numberlist\n",
        "s=\"1 2 3 4 5 6\"\n",
        "string(s)"
      ],
      "execution_count": 64,
      "outputs": [
        {
          "output_type": "execute_result",
          "data": {
            "text/plain": [
              "[1, 2, 3, 4, 5, 6]"
            ]
          },
          "metadata": {
            "tags": []
          },
          "execution_count": 64
        }
      ]
    },
    {
      "cell_type": "markdown",
      "metadata": {
        "id": "1LFguzXfbPbR",
        "colab_type": "text"
      },
      "source": [
        "##ASSIGNMENT"
      ]
    },
    {
      "cell_type": "code",
      "metadata": {
        "id": "3GQ5UaoCITUQ",
        "colab_type": "code",
        "colab": {
          "base_uri": "https://localhost:8080/",
          "height": 34
        },
        "outputId": "bb6a37cb-b488-4f2c-a4f7-eccc73ee5487"
      },
      "source": [
        "list=[1,2,3,4,5]\n",
        "for i in list:\n",
        "  if i%2==0:\n",
        "    print(i,end=\"\")"
      ],
      "execution_count": 80,
      "outputs": [
        {
          "output_type": "stream",
          "text": [
            "24"
          ],
          "name": "stdout"
        }
      ]
    },
    {
      "cell_type": "code",
      "metadata": {
        "id": "ypJXmAjIdpcE",
        "colab_type": "code",
        "colab": {
          "base_uri": "https://localhost:8080/",
          "height": 34
        },
        "outputId": "d900892d-e591-489f-ba19-3ae9fbe058a3"
      },
      "source": [
        "lst=[1,4,5,6,9]\n",
        "for i in lst:\n",
        "  print(i,end=\"\")"
      ],
      "execution_count": 76,
      "outputs": [
        {
          "output_type": "stream",
          "text": [
            "14569"
          ],
          "name": "stdout"
        }
      ]
    },
    {
      "cell_type": "code",
      "metadata": {
        "id": "WCO6HvqwfknE",
        "colab_type": "code",
        "colab": {
          "base_uri": "https://localhost:8080/",
          "height": 34
        },
        "outputId": "2a7d90e5-a3e7-4146-ea01-f3cf34ececf7"
      },
      "source": [
        "list=[1,4,5,6,9]\n",
        "for i in list:\n",
        "  if i%2==0:\n",
        "    print(i*i,end=\",\")\n",
        "  else:\n",
        "    print(i,end=\",\")"
      ],
      "execution_count": 81,
      "outputs": [
        {
          "output_type": "stream",
          "text": [
            "1,16,5,36,9,"
          ],
          "name": "stdout"
        }
      ]
    },
    {
      "cell_type": "code",
      "metadata": {
        "id": "r7MRu6M3gNWz",
        "colab_type": "code",
        "colab": {
          "base_uri": "https://localhost:8080/",
          "height": 34
        },
        "outputId": "a0077896-5ac3-46f4-8a91-fbb79fb856f2"
      },
      "source": [
        "def list(a):\n",
        "  b=[]\n",
        "  for j in range(len(a)):\n",
        "    a[j]=int(a[j])\n",
        "  for i in range(len(a)):\n",
        "    if i!=0 and i!=len(a)-1:\n",
        "      b.append(a[i-1]*a[i+1])\n",
        "    else:\n",
        "      b.append(a[i])\n",
        "  return b\n",
        "a=[15,19,12,16,4]\n",
        "list(a)"
      ],
      "execution_count": 85,
      "outputs": [
        {
          "output_type": "execute_result",
          "data": {
            "text/plain": [
              "[15, 180, 304, 48, 4]"
            ]
          },
          "metadata": {
            "tags": []
          },
          "execution_count": 85
        }
      ]
    }
  ]
}
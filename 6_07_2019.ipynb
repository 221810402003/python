{
  "nbformat": 4,
  "nbformat_minor": 0,
  "metadata": {
    "colab": {
      "name": "6-07-2019",
      "version": "0.3.2",
      "provenance": [],
      "include_colab_link": true
    },
    "kernelspec": {
      "name": "python3",
      "display_name": "Python 3"
    }
  },
  "cells": [
    {
      "cell_type": "markdown",
      "metadata": {
        "id": "view-in-github",
        "colab_type": "text"
      },
      "source": [
        "<a href=\"https://colab.research.google.com/github/221810402003/python/blob/master/6_07_2019.ipynb\" target=\"_parent\"><img src=\"https://colab.research.google.com/assets/colab-badge.svg\" alt=\"Open In Colab\"/></a>"
      ]
    },
    {
      "cell_type": "code",
      "metadata": {
        "id": "diLf0ssmdwvL",
        "colab_type": "code",
        "outputId": "a3a5cc55-bb6e-4db5-c475-71d384f8af58",
        "colab": {
          "base_uri": "https://localhost:8080/",
          "height": 1000
        }
      },
      "source": [
        "x=0\n",
        "while x<100:\n",
        "  print(\"GITAM\")\n",
        "  x=x+1"
      ],
      "execution_count": 1,
      "outputs": [
        {
          "output_type": "stream",
          "text": [
            "GITAM\n",
            "GITAM\n",
            "GITAM\n",
            "GITAM\n",
            "GITAM\n",
            "GITAM\n",
            "GITAM\n",
            "GITAM\n",
            "GITAM\n",
            "GITAM\n",
            "GITAM\n",
            "GITAM\n",
            "GITAM\n",
            "GITAM\n",
            "GITAM\n",
            "GITAM\n",
            "GITAM\n",
            "GITAM\n",
            "GITAM\n",
            "GITAM\n",
            "GITAM\n",
            "GITAM\n",
            "GITAM\n",
            "GITAM\n",
            "GITAM\n",
            "GITAM\n",
            "GITAM\n",
            "GITAM\n",
            "GITAM\n",
            "GITAM\n",
            "GITAM\n",
            "GITAM\n",
            "GITAM\n",
            "GITAM\n",
            "GITAM\n",
            "GITAM\n",
            "GITAM\n",
            "GITAM\n",
            "GITAM\n",
            "GITAM\n",
            "GITAM\n",
            "GITAM\n",
            "GITAM\n",
            "GITAM\n",
            "GITAM\n",
            "GITAM\n",
            "GITAM\n",
            "GITAM\n",
            "GITAM\n",
            "GITAM\n",
            "GITAM\n",
            "GITAM\n",
            "GITAM\n",
            "GITAM\n",
            "GITAM\n",
            "GITAM\n",
            "GITAM\n",
            "GITAM\n",
            "GITAM\n",
            "GITAM\n",
            "GITAM\n",
            "GITAM\n",
            "GITAM\n",
            "GITAM\n",
            "GITAM\n",
            "GITAM\n",
            "GITAM\n",
            "GITAM\n",
            "GITAM\n",
            "GITAM\n",
            "GITAM\n",
            "GITAM\n",
            "GITAM\n",
            "GITAM\n",
            "GITAM\n",
            "GITAM\n",
            "GITAM\n",
            "GITAM\n",
            "GITAM\n",
            "GITAM\n",
            "GITAM\n",
            "GITAM\n",
            "GITAM\n",
            "GITAM\n",
            "GITAM\n",
            "GITAM\n",
            "GITAM\n",
            "GITAM\n",
            "GITAM\n",
            "GITAM\n",
            "GITAM\n",
            "GITAM\n",
            "GITAM\n",
            "GITAM\n",
            "GITAM\n",
            "GITAM\n",
            "GITAM\n",
            "GITAM\n",
            "GITAM\n",
            "GITAM\n"
          ],
          "name": "stdout"
        }
      ]
    },
    {
      "cell_type": "code",
      "metadata": {
        "id": "C129xFKjhiRm",
        "colab_type": "code",
        "outputId": "9f0250e3-b5a1-4a1f-e641-d6664d3f887a",
        "colab": {
          "base_uri": "https://localhost:8080/",
          "height": 101
        }
      },
      "source": [
        "x=5\n",
        "i=1\n",
        "while i<=x:\n",
        "  print(i)\n",
        "  i=i+1\n",
        "  "
      ],
      "execution_count": 0,
      "outputs": [
        {
          "output_type": "stream",
          "text": [
            "1\n",
            "2\n",
            "3\n",
            "4\n",
            "5\n"
          ],
          "name": "stdout"
        }
      ]
    },
    {
      "cell_type": "code",
      "metadata": {
        "id": "8d1xzrwBjF8W",
        "colab_type": "code",
        "outputId": "276145e6-b07d-4c33-c0f9-1d926ab5c504",
        "colab": {
          "base_uri": "https://localhost:8080/",
          "height": 34
        }
      },
      "source": [
        "x=5\n",
        "i=1\n",
        "while i<=x:\n",
        "  print(i,end=\" \")\n",
        "  i=i+1"
      ],
      "execution_count": 0,
      "outputs": [
        {
          "output_type": "stream",
          "text": [
            "1 2 3 4 5 "
          ],
          "name": "stdout"
        }
      ]
    },
    {
      "cell_type": "code",
      "metadata": {
        "id": "CVnws_csjdAf",
        "colab_type": "code",
        "outputId": "38c8285b-0287-451e-bec1-63cb394412da",
        "colab": {
          "base_uri": "https://localhost:8080/",
          "height": 50
        }
      },
      "source": [
        "n=int(input(\"enter\"))\n",
        "i=1\n",
        "s=0\n",
        "while i<=n:\n",
        "  s=s+i\n",
        "  i=i+1\n",
        "print(s)"
      ],
      "execution_count": 0,
      "outputs": [
        {
          "output_type": "stream",
          "text": [
            "enter5\n",
            "15\n"
          ],
          "name": "stdout"
        }
      ]
    },
    {
      "cell_type": "code",
      "metadata": {
        "id": "sTihKzkskNrP",
        "colab_type": "code",
        "outputId": "fa070275-246c-4d19-eb43-5b4ce90ef32d",
        "colab": {
          "base_uri": "https://localhost:8080/",
          "height": 50
        }
      },
      "source": [
        "n=int(input(\"enter\"))\n",
        "i=1\n",
        "s=0\n",
        "while i<=n:\n",
        "  if i%2==0:\n",
        "    s=s+i\n",
        "    i=i+1\n",
        "  else:\n",
        "      i=i+1\n",
        "print(s)"
      ],
      "execution_count": 0,
      "outputs": [
        {
          "output_type": "stream",
          "text": [
            "enter10\n",
            "30\n"
          ],
          "name": "stdout"
        }
      ]
    },
    {
      "cell_type": "code",
      "metadata": {
        "id": "KskWSIX6lAN4",
        "colab_type": "code",
        "outputId": "7490c09f-b3b2-475a-ec8a-203238ad0a46",
        "colab": {
          "base_uri": "https://localhost:8080/",
          "height": 50
        }
      },
      "source": [
        "n=int(input(\"enter\"))\n",
        "i=1\n",
        "s=0\n",
        "while i<=n:\n",
        "  if i%2!=0:\n",
        "    s=s+i\n",
        "    i=i+1\n",
        "  else:\n",
        "      i=i+1\n",
        "print(s)"
      ],
      "execution_count": 0,
      "outputs": [
        {
          "output_type": "stream",
          "text": [
            "enter10\n",
            "25\n"
          ],
          "name": "stdout"
        }
      ]
    },
    {
      "cell_type": "code",
      "metadata": {
        "id": "wBzZJNS0nWD5",
        "colab_type": "code",
        "outputId": "c1965712-a31f-4c15-b05b-a1a8407337da",
        "colab": {
          "base_uri": "https://localhost:8080/",
          "height": 50
        }
      },
      "source": [
        "n=int(input(\"enter\"))\n",
        "k=0\n",
        "while n!=0:\n",
        "  r=n%10\n",
        "  k=k*10+r\n",
        "  n=n//10\n",
        "print(k)"
      ],
      "execution_count": 0,
      "outputs": [
        {
          "output_type": "stream",
          "text": [
            "enter1945\n",
            "5491\n"
          ],
          "name": "stdout"
        }
      ]
    },
    {
      "cell_type": "code",
      "metadata": {
        "id": "IXuijHOG4uDC",
        "colab_type": "code",
        "outputId": "9725b89a-eaa1-4628-86e9-f74bf2a7babc",
        "colab": {
          "base_uri": "https://localhost:8080/",
          "height": 34
        }
      },
      "source": [
        "def evendigits(n):\n",
        "  sum=0\n",
        "  while n!=0:\n",
        "    r=n%10\n",
        "    if r%2==0:\n",
        "      sum=sum+r\n",
        "    n=n//10\n",
        "  return sum  \n",
        "evendigits(2224)"
      ],
      "execution_count": 0,
      "outputs": [
        {
          "output_type": "execute_result",
          "data": {
            "text/plain": [
              "10"
            ]
          },
          "metadata": {
            "tags": []
          },
          "execution_count": 25
        }
      ]
    },
    {
      "cell_type": "code",
      "metadata": {
        "id": "fTCzhMmm5hJY",
        "colab_type": "code",
        "outputId": "d28c3655-9ab7-4b9c-ad7d-d8a8f8d1c939",
        "colab": {
          "base_uri": "https://localhost:8080/",
          "height": 34
        }
      },
      "source": [
        "def printlarge(n):\n",
        "  k=0\n",
        "  large=0\n",
        "  while n!=0:\n",
        "    r=n%10\n",
        "    n=n//10\n",
        "    if(r>large):\n",
        "      large=r\n",
        "  return large\n",
        "printlarge(1255977)"
      ],
      "execution_count": 0,
      "outputs": [
        {
          "output_type": "execute_result",
          "data": {
            "text/plain": [
              "9"
            ]
          },
          "metadata": {
            "tags": []
          },
          "execution_count": 30
        }
      ]
    },
    {
      "cell_type": "code",
      "metadata": {
        "id": "QbO11dkWAVEZ",
        "colab_type": "code",
        "outputId": "9f0fa4c1-9198-4e72-e40a-cb1611eb68de",
        "colab": {
          "base_uri": "https://localhost:8080/",
          "height": 34
        }
      },
      "source": [
        "def rev(n):\n",
        "  k=0\n",
        "  while n!=0:\n",
        "    r=n%10\n",
        "    k=k*10+r\n",
        "    n=n//10\n",
        "  return k\n",
        "rev(123)"
      ],
      "execution_count": 0,
      "outputs": [
        {
          "output_type": "execute_result",
          "data": {
            "text/plain": [
              "321"
            ]
          },
          "metadata": {
            "tags": []
          },
          "execution_count": 33
        }
      ]
    },
    {
      "cell_type": "code",
      "metadata": {
        "id": "TAIOVkhRBEUR",
        "colab_type": "code",
        "outputId": "684802c7-8713-4d8f-fd78-15fd8dcae80d",
        "colab": {
          "base_uri": "https://localhost:8080/",
          "height": 34
        }
      },
      "source": [
        "def palindrome(n):\n",
        "  k=0\n",
        "  b=n\n",
        "  while n!=0:\n",
        "    r=n%10\n",
        "    k=k*10+r\n",
        "    n=n//10\n",
        "  if k==b:\n",
        "    return \"palindrome\"\n",
        "  else:\n",
        "    return \"not palindrome\"\n",
        "palindrome(151)    \n"
      ],
      "execution_count": 0,
      "outputs": [
        {
          "output_type": "execute_result",
          "data": {
            "text/plain": [
              "'palindrome'"
            ]
          },
          "metadata": {
            "tags": []
          },
          "execution_count": 35
        }
      ]
    },
    {
      "cell_type": "code",
      "metadata": {
        "id": "ZRiBK6RvF_g3",
        "colab_type": "code",
        "outputId": "5baa69d1-e49a-42a2-cafe-f7d25e1fbc22",
        "colab": {
          "base_uri": "https://localhost:8080/",
          "height": 269
        }
      },
      "source": [
        "def series(lb,ub):\n",
        "  for x in range(lb,ub+1):\n",
        "    print(x)\n",
        "series(11,25) \n",
        "  "
      ],
      "execution_count": 0,
      "outputs": [
        {
          "output_type": "stream",
          "text": [
            "11\n",
            "12\n",
            "13\n",
            "14\n",
            "15\n",
            "16\n",
            "17\n",
            "18\n",
            "19\n",
            "20\n",
            "21\n",
            "22\n",
            "23\n",
            "24\n",
            "25\n"
          ],
          "name": "stdout"
        }
      ]
    },
    {
      "cell_type": "code",
      "metadata": {
        "id": "6LANSpHxHSAc",
        "colab_type": "code",
        "outputId": "950ec7ec-0902-4107-d4f8-98a1f480feea",
        "colab": {
          "base_uri": "https://localhost:8080/",
          "height": 857
        }
      },
      "source": [
        "def alter(lb,ub):\n",
        "  for x in range(lb,ub,2):\n",
        "    print(x)\n",
        "alter(200,300)"
      ],
      "execution_count": 0,
      "outputs": [
        {
          "output_type": "stream",
          "text": [
            "200\n",
            "202\n",
            "204\n",
            "206\n",
            "208\n",
            "210\n",
            "212\n",
            "214\n",
            "216\n",
            "218\n",
            "220\n",
            "222\n",
            "224\n",
            "226\n",
            "228\n",
            "230\n",
            "232\n",
            "234\n",
            "236\n",
            "238\n",
            "240\n",
            "242\n",
            "244\n",
            "246\n",
            "248\n",
            "250\n",
            "252\n",
            "254\n",
            "256\n",
            "258\n",
            "260\n",
            "262\n",
            "264\n",
            "266\n",
            "268\n",
            "270\n",
            "272\n",
            "274\n",
            "276\n",
            "278\n",
            "280\n",
            "282\n",
            "284\n",
            "286\n",
            "288\n",
            "290\n",
            "292\n",
            "294\n",
            "296\n",
            "298\n"
          ],
          "name": "stdout"
        }
      ]
    },
    {
      "cell_type": "code",
      "metadata": {
        "id": "wyDH5FY0HwC-",
        "colab_type": "code",
        "outputId": "9edaa1d0-b134-4ab8-8ce6-444f2cf7d677",
        "colab": {
          "base_uri": "https://localhost:8080/",
          "height": 185
        }
      },
      "source": [
        "def rev(lb,ub):\n",
        "  for x in range(ub,lb-1,-1):\n",
        "    print(x)\n",
        "rev(1,10)"
      ],
      "execution_count": 0,
      "outputs": [
        {
          "output_type": "stream",
          "text": [
            "10\n",
            "9\n",
            "8\n",
            "7\n",
            "6\n",
            "5\n",
            "4\n",
            "3\n",
            "2\n",
            "1\n"
          ],
          "name": "stdout"
        }
      ]
    }
  ]
}